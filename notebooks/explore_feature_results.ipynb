{
 "cells": [
  {
   "cell_type": "code",
   "execution_count": 1,
   "metadata": {},
   "outputs": [],
   "source": [
    "import pandas as pd\n",
    "import json \n",
    "import numpy as np"
   ]
  },
  {
   "cell_type": "code",
   "execution_count": 2,
   "metadata": {},
   "outputs": [],
   "source": [
    "filepath = \"../data/results/feature_results/Sujet1/Session1/BalanceBoard/10_features.json\"\n",
    "\n",
    "with open(filepath) as json_data:\n",
    "    features = json.load(json_data)\n",
    "    time_features = features[\"time_features\"]\n",
    "    frequency_features = features[\"frequency_features\"]\n"
   ]
  },
  {
   "cell_type": "code",
   "execution_count": 3,
   "metadata": {},
   "outputs": [],
   "source": [
    "time_features_df = pd.DataFrame(time_features,index=[0])\n",
    "frequency_features_df = pd.DataFrame(frequency_features,index=[0])"
   ]
  },
  {
   "cell_type": "code",
   "execution_count": 4,
   "metadata": {},
   "outputs": [
    {
     "data": {
      "text/html": [
       "<div>\n",
       "<style scoped>\n",
       "    .dataframe tbody tr th:only-of-type {\n",
       "        vertical-align: middle;\n",
       "    }\n",
       "\n",
       "    .dataframe tbody tr th {\n",
       "        vertical-align: top;\n",
       "    }\n",
       "\n",
       "    .dataframe thead th {\n",
       "        text-align: right;\n",
       "    }\n",
       "</style>\n",
       "<table border=\"1\" class=\"dataframe\">\n",
       "  <thead>\n",
       "    <tr style=\"text-align: right;\">\n",
       "      <th></th>\n",
       "      <th>Mean distance</th>\n",
       "      <th>Mean distance-ML</th>\n",
       "      <th>Mean distance-AP</th>\n",
       "      <th>Rms distance</th>\n",
       "      <th>Rms distance-ML</th>\n",
       "      <th>Rms distance-AP</th>\n",
       "      <th>Path length</th>\n",
       "      <th>Path length-ML</th>\n",
       "      <th>Path length-AP</th>\n",
       "      <th>Mean velocity</th>\n",
       "      <th>...</th>\n",
       "      <th>Range-ML</th>\n",
       "      <th>Range-AP</th>\n",
       "      <th>95% confidence circle area</th>\n",
       "      <th>95% confidence elipse area</th>\n",
       "      <th>Sway area</th>\n",
       "      <th>Mean frequency</th>\n",
       "      <th>Mean frequency-ML</th>\n",
       "      <th>Mean frequency-AP</th>\n",
       "      <th>Fractal dimension-CC</th>\n",
       "      <th>Fractal dimension-CE</th>\n",
       "    </tr>\n",
       "  </thead>\n",
       "  <tbody>\n",
       "    <tr>\n",
       "      <th>0</th>\n",
       "      <td>0.903036</td>\n",
       "      <td>0.638543</td>\n",
       "      <td>1.296225</td>\n",
       "      <td>1.178822</td>\n",
       "      <td>0.833553</td>\n",
       "      <td>1.81499</td>\n",
       "      <td>152.031369</td>\n",
       "      <td>115.251777</td>\n",
       "      <td>76.315808</td>\n",
       "      <td>7.601568</td>\n",
       "      <td>...</td>\n",
       "      <td>5.9107</td>\n",
       "      <td>9.144294</td>\n",
       "      <td>2.561889</td>\n",
       "      <td>NaN</td>\n",
       "      <td>3.897737</td>\n",
       "      <td>1.339733</td>\n",
       "      <td>1.595337</td>\n",
       "      <td>0.52039</td>\n",
       "      <td>1.810326</td>\n",
       "      <td>NaN</td>\n",
       "    </tr>\n",
       "  </tbody>\n",
       "</table>\n",
       "<p>1 rows × 23 columns</p>\n",
       "</div>"
      ],
      "text/plain": [
       "   Mean distance  Mean distance-ML  Mean distance-AP  Rms distance  \\\n",
       "0       0.903036          0.638543          1.296225      1.178822   \n",
       "\n",
       "   Rms distance-ML  Rms distance-AP  Path length  Path length-ML  \\\n",
       "0         0.833553          1.81499   152.031369      115.251777   \n",
       "\n",
       "   Path length-AP  Mean velocity          ...           Range-ML  Range-AP  \\\n",
       "0       76.315808       7.601568          ...             5.9107  9.144294   \n",
       "\n",
       "   95% confidence circle area  95% confidence elipse area  Sway area  \\\n",
       "0                    2.561889                         NaN   3.897737   \n",
       "\n",
       "   Mean frequency  Mean frequency-ML  Mean frequency-AP  Fractal dimension-CC  \\\n",
       "0        1.339733           1.595337            0.52039              1.810326   \n",
       "\n",
       "   Fractal dimension-CE  \n",
       "0                   NaN  \n",
       "\n",
       "[1 rows x 23 columns]"
      ]
     },
     "execution_count": 4,
     "metadata": {},
     "output_type": "execute_result"
    }
   ],
   "source": [
    "time_features_df"
   ]
  },
  {
   "cell_type": "code",
   "execution_count": 5,
   "metadata": {},
   "outputs": [
    {
     "data": {
      "text/html": [
       "<div>\n",
       "<style scoped>\n",
       "    .dataframe tbody tr th:only-of-type {\n",
       "        vertical-align: middle;\n",
       "    }\n",
       "\n",
       "    .dataframe tbody tr th {\n",
       "        vertical-align: top;\n",
       "    }\n",
       "\n",
       "    .dataframe thead th {\n",
       "        text-align: right;\n",
       "    }\n",
       "</style>\n",
       "<table border=\"1\" class=\"dataframe\">\n",
       "  <thead>\n",
       "    <tr style=\"text-align: right;\">\n",
       "      <th></th>\n",
       "      <th>Total power-RD</th>\n",
       "      <th>Total power-ML</th>\n",
       "      <th>Total power-AP</th>\n",
       "      <th>Peak frequency-RD</th>\n",
       "      <th>Peak frequency-ML</th>\n",
       "      <th>Peak frequency-AP</th>\n",
       "      <th>50% power frequency-RD</th>\n",
       "      <th>50% power frequency-ML</th>\n",
       "      <th>50% power frequency-AP</th>\n",
       "      <th>80% power frequency-RD</th>\n",
       "      <th>80% power frequency-ML</th>\n",
       "      <th>80% power frequency-AP</th>\n",
       "    </tr>\n",
       "  </thead>\n",
       "  <tbody>\n",
       "    <tr>\n",
       "      <th>0</th>\n",
       "      <td>0.048477</td>\n",
       "      <td>0.02929</td>\n",
       "      <td>0.012654</td>\n",
       "      <td>0.05</td>\n",
       "      <td>0.05</td>\n",
       "      <td>0.05</td>\n",
       "      <td>0.0</td>\n",
       "      <td>0.0</td>\n",
       "      <td>0.0</td>\n",
       "      <td>0.0</td>\n",
       "      <td>0.0</td>\n",
       "      <td>0.0</td>\n",
       "    </tr>\n",
       "  </tbody>\n",
       "</table>\n",
       "</div>"
      ],
      "text/plain": [
       "   Total power-RD  Total power-ML  Total power-AP  Peak frequency-RD  \\\n",
       "0        0.048477         0.02929        0.012654               0.05   \n",
       "\n",
       "   Peak frequency-ML  Peak frequency-AP  50% power frequency-RD  \\\n",
       "0               0.05               0.05                     0.0   \n",
       "\n",
       "   50% power frequency-ML  50% power frequency-AP  80% power frequency-RD  \\\n",
       "0                     0.0                     0.0                     0.0   \n",
       "\n",
       "   80% power frequency-ML  80% power frequency-AP  \n",
       "0                     0.0                     0.0  "
      ]
     },
     "execution_count": 5,
     "metadata": {},
     "output_type": "execute_result"
    }
   ],
   "source": [
    "frequency_features_df"
   ]
  },
  {
   "cell_type": "code",
   "execution_count": null,
   "metadata": {},
   "outputs": [],
   "source": []
  },
  {
   "cell_type": "code",
   "execution_count": null,
   "metadata": {},
   "outputs": [],
   "source": []
  }
 ],
 "metadata": {
  "kernelspec": {
   "display_name": "Python 3",
   "language": "python",
   "name": "python3"
  },
  "language_info": {
   "codemirror_mode": {
    "name": "ipython",
    "version": 3
   },
   "file_extension": ".py",
   "mimetype": "text/x-python",
   "name": "python",
   "nbconvert_exporter": "python",
   "pygments_lexer": "ipython3",
   "version": "3.6.5"
  }
 },
 "nbformat": 4,
 "nbformat_minor": 2
}
