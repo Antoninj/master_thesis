{
 "cells": [
  {
   "cell_type": "code",
   "execution_count": 1,
   "metadata": {},
   "outputs": [],
   "source": [
    "import pandas as pd\n",
    "import json \n",
    "import numpy as np"
   ]
  },
  {
   "cell_type": "code",
   "execution_count": 2,
   "metadata": {},
   "outputs": [],
   "source": [
    "filepath = \"../data/results/feature_data/Repro1/FP/1_1_features.json\"\n",
    "\n",
    "with open(filepath) as json_data:\n",
    "    features = json.load(json_data)\n",
    "    time_features = features[\"time_features\"]\n",
    "    frequency_features = features[\"frequency_features\"]\n",
    "    \n"
   ]
  },
  {
   "cell_type": "code",
   "execution_count": 3,
   "metadata": {},
   "outputs": [],
   "source": [
    "time_features_df = pd.DataFrame(time_features,index=[0])\n",
    "frequency_features_df = pd.DataFrame(frequency_features,index=[0])"
   ]
  },
  {
   "cell_type": "code",
   "execution_count": 4,
   "metadata": {},
   "outputs": [
    {
     "data": {
      "text/html": [
       "<div>\n",
       "<style scoped>\n",
       "    .dataframe tbody tr th:only-of-type {\n",
       "        vertical-align: middle;\n",
       "    }\n",
       "\n",
       "    .dataframe tbody tr th {\n",
       "        vertical-align: top;\n",
       "    }\n",
       "\n",
       "    .dataframe thead th {\n",
       "        text-align: right;\n",
       "    }\n",
       "</style>\n",
       "<table border=\"1\" class=\"dataframe\">\n",
       "  <thead>\n",
       "    <tr style=\"text-align: right;\">\n",
       "      <th></th>\n",
       "      <th>Mean distance</th>\n",
       "      <th>Mean distance-ML</th>\n",
       "      <th>Mean distance-AP</th>\n",
       "      <th>Rms distance</th>\n",
       "      <th>Rms distance-ML</th>\n",
       "      <th>Rms distance-AP</th>\n",
       "      <th>Path length</th>\n",
       "      <th>Path length-ML</th>\n",
       "      <th>Path length-AP</th>\n",
       "      <th>Mean velocity</th>\n",
       "      <th>...</th>\n",
       "      <th>Mean velocity-AP</th>\n",
       "      <th>Range</th>\n",
       "      <th>Range-ML</th>\n",
       "      <th>Range-AP</th>\n",
       "      <th>95% confidence circle area</th>\n",
       "      <th>Sway area</th>\n",
       "      <th>Mean frequency</th>\n",
       "      <th>Mean frequency-ML</th>\n",
       "      <th>Mean frequency-AP</th>\n",
       "      <th>Fractal dimension-CC</th>\n",
       "    </tr>\n",
       "  </thead>\n",
       "  <tbody>\n",
       "    <tr>\n",
       "      <th>0</th>\n",
       "      <td>1.983724</td>\n",
       "      <td>1.402704</td>\n",
       "      <td>3.232865</td>\n",
       "      <td>2.495211</td>\n",
       "      <td>1.764381</td>\n",
       "      <td>3.842251</td>\n",
       "      <td>181.450466</td>\n",
       "      <td>108.573946</td>\n",
       "      <td>122.582711</td>\n",
       "      <td>9.072523</td>\n",
       "      <td>...</td>\n",
       "      <td>6.129136</td>\n",
       "      <td>6.248341</td>\n",
       "      <td>8.450483</td>\n",
       "      <td>18.001216</td>\n",
       "      <td>62.871881</td>\n",
       "      <td>10.447918</td>\n",
       "      <td>0.727892</td>\n",
       "      <td>0.684155</td>\n",
       "      <td>0.335148</td>\n",
       "      <td>1.655519</td>\n",
       "    </tr>\n",
       "  </tbody>\n",
       "</table>\n",
       "<p>1 rows × 21 columns</p>\n",
       "</div>"
      ],
      "text/plain": [
       "   Mean distance  Mean distance-ML  Mean distance-AP  Rms distance  \\\n",
       "0       1.983724          1.402704          3.232865      2.495211   \n",
       "\n",
       "   Rms distance-ML  Rms distance-AP  Path length  Path length-ML  \\\n",
       "0         1.764381         3.842251   181.450466      108.573946   \n",
       "\n",
       "   Path length-AP  Mean velocity          ...           Mean velocity-AP  \\\n",
       "0      122.582711       9.072523          ...                   6.129136   \n",
       "\n",
       "      Range  Range-ML   Range-AP  95% confidence circle area  Sway area  \\\n",
       "0  6.248341  8.450483  18.001216                   62.871881  10.447918   \n",
       "\n",
       "   Mean frequency  Mean frequency-ML  Mean frequency-AP  Fractal dimension-CC  \n",
       "0        0.727892           0.684155           0.335148              1.655519  \n",
       "\n",
       "[1 rows x 21 columns]"
      ]
     },
     "execution_count": 4,
     "metadata": {},
     "output_type": "execute_result"
    }
   ],
   "source": [
    "time_features_df"
   ]
  },
  {
   "cell_type": "code",
   "execution_count": 5,
   "metadata": {},
   "outputs": [
    {
     "data": {
      "text/html": [
       "<div>\n",
       "<style scoped>\n",
       "    .dataframe tbody tr th:only-of-type {\n",
       "        vertical-align: middle;\n",
       "    }\n",
       "\n",
       "    .dataframe tbody tr th {\n",
       "        vertical-align: top;\n",
       "    }\n",
       "\n",
       "    .dataframe thead th {\n",
       "        text-align: right;\n",
       "    }\n",
       "</style>\n",
       "<table border=\"1\" class=\"dataframe\">\n",
       "  <thead>\n",
       "    <tr style=\"text-align: right;\">\n",
       "      <th></th>\n",
       "      <th>Total power-RD</th>\n",
       "      <th>Total power-ML</th>\n",
       "      <th>Total power-AP</th>\n",
       "      <th>Peak frequency-RD</th>\n",
       "      <th>Peak frequency-ML</th>\n",
       "      <th>Peak frequency-AP</th>\n",
       "      <th>50% power frequency-RD</th>\n",
       "      <th>50% power frequency-ML</th>\n",
       "      <th>50% power frequency-AP</th>\n",
       "      <th>80% power frequency-RD</th>\n",
       "      <th>80% power frequency-ML</th>\n",
       "      <th>80% power frequency-AP</th>\n",
       "    </tr>\n",
       "  </thead>\n",
       "  <tbody>\n",
       "    <tr>\n",
       "      <th>0</th>\n",
       "      <td>1.092022</td>\n",
       "      <td>0.936236</td>\n",
       "      <td>0.774142</td>\n",
       "      <td>0.1075</td>\n",
       "      <td>0.0975</td>\n",
       "      <td>0.1025</td>\n",
       "      <td>0.0025</td>\n",
       "      <td>0.0025</td>\n",
       "      <td>0.0025</td>\n",
       "      <td>0.0025</td>\n",
       "      <td>0.0025</td>\n",
       "      <td>0.0025</td>\n",
       "    </tr>\n",
       "  </tbody>\n",
       "</table>\n",
       "</div>"
      ],
      "text/plain": [
       "   Total power-RD  Total power-ML  Total power-AP  Peak frequency-RD  \\\n",
       "0        1.092022        0.936236        0.774142             0.1075   \n",
       "\n",
       "   Peak frequency-ML  Peak frequency-AP  50% power frequency-RD  \\\n",
       "0             0.0975             0.1025                  0.0025   \n",
       "\n",
       "   50% power frequency-ML  50% power frequency-AP  80% power frequency-RD  \\\n",
       "0                  0.0025                  0.0025                  0.0025   \n",
       "\n",
       "   80% power frequency-ML  80% power frequency-AP  \n",
       "0                  0.0025                  0.0025  "
      ]
     },
     "execution_count": 5,
     "metadata": {},
     "output_type": "execute_result"
    }
   ],
   "source": [
    "frequency_features_df"
   ]
  },
  {
   "cell_type": "code",
   "execution_count": null,
   "metadata": {},
   "outputs": [],
   "source": []
  }
 ],
 "metadata": {
  "kernelspec": {
   "display_name": "Python 3",
   "language": "python",
   "name": "python3"
  },
  "language_info": {
   "codemirror_mode": {
    "name": "ipython",
    "version": 3
   },
   "file_extension": ".py",
   "mimetype": "text/x-python",
   "name": "python",
   "nbconvert_exporter": "python",
   "pygments_lexer": "ipython3",
   "version": "3.6.5"
  }
 },
 "nbformat": 4,
 "nbformat_minor": 2
}
