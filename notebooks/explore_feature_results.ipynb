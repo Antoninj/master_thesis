{
 "cells": [
  {
   "cell_type": "code",
   "execution_count": 38,
   "metadata": {},
   "outputs": [],
   "source": [
    "import pandas as pd\n",
    "import json \n",
    "import numpy as np"
   ]
  },
  {
   "cell_type": "code",
   "execution_count": 39,
   "metadata": {},
   "outputs": [],
   "source": [
    "filepath = \"../data/results/Sujet1/Session1/BalanceBoard/1_features.json\"\n",
    "\n",
    "with open(filepath) as json_data:\n",
    "    features = json.load(json_data)\n",
    "    time_features = features[\"time_features\"]\n",
    "    frequency_features = features[\"frequency_features\"]"
   ]
  },
  {
   "cell_type": "code",
   "execution_count": 48,
   "metadata": {},
   "outputs": [],
   "source": [
    "time_features_df = pd.DataFrame(time_features,index=[0])\n",
    "frequency_features_df = pd.DataFrame(frequency_features,index=[0])"
   ]
  },
  {
   "cell_type": "code",
   "execution_count": 49,
   "metadata": {},
   "outputs": [
    {
     "data": {
      "text/html": [
       "<div>\n",
       "<style>\n",
       "    .dataframe thead tr:only-child th {\n",
       "        text-align: right;\n",
       "    }\n",
       "\n",
       "    .dataframe thead th {\n",
       "        text-align: left;\n",
       "    }\n",
       "\n",
       "    .dataframe tbody tr th {\n",
       "        vertical-align: top;\n",
       "    }\n",
       "</style>\n",
       "<table border=\"1\" class=\"dataframe\">\n",
       "  <thead>\n",
       "    <tr style=\"text-align: right;\">\n",
       "      <th></th>\n",
       "      <th>95% confidence circle area</th>\n",
       "      <th>95% confidence elipse area</th>\n",
       "      <th>Fractal dimension-CC</th>\n",
       "      <th>Fractal dimension-CE</th>\n",
       "      <th>Mean frequency</th>\n",
       "      <th>Mean frequency-ap</th>\n",
       "      <th>Mean frequency-ml</th>\n",
       "      <th>Rd mean distance</th>\n",
       "      <th>Rd mean velocity</th>\n",
       "      <th>Rd path length</th>\n",
       "      <th>...</th>\n",
       "      <th>ap mean distance</th>\n",
       "      <th>ap mean velocity</th>\n",
       "      <th>ap path length</th>\n",
       "      <th>ap range</th>\n",
       "      <th>ap rms distance</th>\n",
       "      <th>ml mean distance</th>\n",
       "      <th>ml mean velocity</th>\n",
       "      <th>ml path length</th>\n",
       "      <th>ml range</th>\n",
       "      <th>ml rms distance</th>\n",
       "    </tr>\n",
       "  </thead>\n",
       "  <tbody>\n",
       "    <tr>\n",
       "      <th>0</th>\n",
       "      <td>28.955126</td>\n",
       "      <td>39.988003</td>\n",
       "      <td>1.674472</td>\n",
       "      <td>1.6351</td>\n",
       "      <td>0.923079</td>\n",
       "      <td>0.23049</td>\n",
       "      <td>1.067955</td>\n",
       "      <td>1.284137</td>\n",
       "      <td>7.447835</td>\n",
       "      <td>558.341847</td>\n",
       "      <td>...</td>\n",
       "      <td>3.013235</td>\n",
       "      <td>3.928804</td>\n",
       "      <td>294.530637</td>\n",
       "      <td>16.105083</td>\n",
       "      <td>3.640465</td>\n",
       "      <td>0.908022</td>\n",
       "      <td>5.485606</td>\n",
       "      <td>411.239421</td>\n",
       "      <td>12.312893</td>\n",
       "      <td>1.179624</td>\n",
       "    </tr>\n",
       "  </tbody>\n",
       "</table>\n",
       "<p>1 rows × 23 columns</p>\n",
       "</div>"
      ],
      "text/plain": [
       "   95% confidence circle area  95% confidence elipse area  \\\n",
       "0                   28.955126                   39.988003   \n",
       "\n",
       "   Fractal dimension-CC  Fractal dimension-CE  Mean frequency  \\\n",
       "0              1.674472                1.6351        0.923079   \n",
       "\n",
       "   Mean frequency-ap  Mean frequency-ml  Rd mean distance  Rd mean velocity  \\\n",
       "0            0.23049           1.067955          1.284137          7.447835   \n",
       "\n",
       "   Rd path length       ...         ap mean distance  ap mean velocity  \\\n",
       "0      558.341847       ...                 3.013235          3.928804   \n",
       "\n",
       "   ap path length   ap range  ap rms distance  ml mean distance  \\\n",
       "0      294.530637  16.105083         3.640465          0.908022   \n",
       "\n",
       "   ml mean velocity  ml path length   ml range  ml rms distance  \n",
       "0          5.485606      411.239421  12.312893         1.179624  \n",
       "\n",
       "[1 rows x 23 columns]"
      ]
     },
     "execution_count": 49,
     "metadata": {},
     "output_type": "execute_result"
    }
   ],
   "source": [
    "time_features_df"
   ]
  },
  {
   "cell_type": "code",
   "execution_count": 50,
   "metadata": {},
   "outputs": [
    {
     "data": {
      "text/html": [
       "<div>\n",
       "<style>\n",
       "    .dataframe thead tr:only-child th {\n",
       "        text-align: right;\n",
       "    }\n",
       "\n",
       "    .dataframe thead th {\n",
       "        text-align: left;\n",
       "    }\n",
       "\n",
       "    .dataframe tbody tr th {\n",
       "        vertical-align: top;\n",
       "    }\n",
       "</style>\n",
       "<table border=\"1\" class=\"dataframe\">\n",
       "  <thead>\n",
       "    <tr style=\"text-align: right;\">\n",
       "      <th></th>\n",
       "      <th>50% AP peak frequency</th>\n",
       "      <th>50% ML peak frequency</th>\n",
       "      <th>50% Rd peak frequency</th>\n",
       "      <th>80% AP peak frequency</th>\n",
       "      <th>80% ML peak frequency</th>\n",
       "      <th>80% Rd peak frequency</th>\n",
       "      <th>AP Total power</th>\n",
       "      <th>AP peak frequency</th>\n",
       "      <th>ML Total power</th>\n",
       "      <th>ML peak frequency</th>\n",
       "      <th>Rd Total power</th>\n",
       "      <th>Rd peak frequency</th>\n",
       "    </tr>\n",
       "  </thead>\n",
       "  <tbody>\n",
       "    <tr>\n",
       "      <th>0</th>\n",
       "      <td>0.0</td>\n",
       "      <td>0.0</td>\n",
       "      <td>0.0</td>\n",
       "      <td>0.0</td>\n",
       "      <td>0.0</td>\n",
       "      <td>0.0</td>\n",
       "      <td>0.022315</td>\n",
       "      <td>0.05</td>\n",
       "      <td>0.043264</td>\n",
       "      <td>0.05</td>\n",
       "      <td>0.075773</td>\n",
       "      <td>0.05</td>\n",
       "    </tr>\n",
       "  </tbody>\n",
       "</table>\n",
       "</div>"
      ],
      "text/plain": [
       "   50% AP peak frequency  50% ML peak frequency  50% Rd peak frequency  \\\n",
       "0                    0.0                    0.0                    0.0   \n",
       "\n",
       "   80% AP peak frequency  80% ML peak frequency  80% Rd peak frequency  \\\n",
       "0                    0.0                    0.0                    0.0   \n",
       "\n",
       "   AP Total power  AP peak frequency  ML Total power  ML peak frequency  \\\n",
       "0        0.022315               0.05        0.043264               0.05   \n",
       "\n",
       "   Rd Total power  Rd peak frequency  \n",
       "0        0.075773               0.05  "
      ]
     },
     "execution_count": 50,
     "metadata": {},
     "output_type": "execute_result"
    }
   ],
   "source": [
    "frequency_features_df"
   ]
  },
  {
   "cell_type": "code",
   "execution_count": null,
   "metadata": {},
   "outputs": [],
   "source": []
  }
 ],
 "metadata": {
  "kernelspec": {
   "display_name": "Python 3",
   "language": "python",
   "name": "python3"
  },
  "language_info": {
   "codemirror_mode": {
    "name": "ipython",
    "version": 3
   },
   "file_extension": ".py",
   "mimetype": "text/x-python",
   "name": "python",
   "nbconvert_exporter": "python",
   "pygments_lexer": "ipython3",
   "version": "3.5.1"
  }
 },
 "nbformat": 4,
 "nbformat_minor": 2
}
