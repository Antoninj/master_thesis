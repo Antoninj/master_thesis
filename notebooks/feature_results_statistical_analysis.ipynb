{
 "cells": [
  {
   "cell_type": "raw",
   "metadata": {},
   "source": [
    "import sys\n",
    "print(sys.version)"
   ]
  },
  {
   "cell_type": "code",
   "execution_count": null,
   "metadata": {
    "ExecuteTime": {
     "end_time": "2019-02-23T18:43:46.911050Z",
     "start_time": "2019-02-23T18:43:43.270848Z"
    }
   },
   "outputs": [],
   "source": [
    "import os\n",
    "import json\n",
    "import pandas as pd\n",
    "import pandas_profiling\n",
    "import numpy as np\n",
    "from scipy import stats\n",
    "import statsmodels.api as sm\n",
    "from patsy import dmatrices\n",
    "from matplotlib import pyplot as plt\n",
    "import rpy2\n",
    "import statsmodels.api as smapi\n",
    "from statsmodels.formula.api import ols\n",
    "import statsmodels.graphics as smgraphics"
   ]
  },
  {
   "cell_type": "code",
   "execution_count": null,
   "metadata": {
    "ExecuteTime": {
     "end_time": "2019-02-23T18:43:46.953537Z",
     "start_time": "2019-02-23T18:43:46.915413Z"
    }
   },
   "outputs": [],
   "source": [
    "%matplotlib inline"
   ]
  },
  {
   "cell_type": "markdown",
   "metadata": {},
   "source": [
    "# Statistical analysis of feature computations results\n"
   ]
  },
  {
   "cell_type": "markdown",
   "metadata": {},
   "source": [
    "## Data importation and manipulation"
   ]
  },
  {
   "cell_type": "code",
   "execution_count": null,
   "metadata": {
    "ExecuteTime": {
     "end_time": "2019-02-23T18:43:46.966346Z",
     "start_time": "2019-02-23T18:43:46.956656Z"
    }
   },
   "outputs": [],
   "source": [
    "def get_path_to_all_files(folder_name):\n",
    "    \"\"\"Recursively get all filepaths from a directory tree.\"\"\"\n",
    "\n",
    "    filepaths = []\n",
    "    for dirname, dirnames, filenames in os.walk(folder_name):\n",
    "        for filename in filenames:\n",
    "            if '.DS_Store' not in filename:\n",
    "                filepaths.append(os.path.join(dirname, filename))\n",
    "\n",
    "    return filepaths"
   ]
  },
  {
   "cell_type": "markdown",
   "metadata": {},
   "source": [
    "### Data importation\n"
   ]
  },
  {
   "cell_type": "code",
   "execution_count": null,
   "metadata": {
    "ExecuteTime": {
     "end_time": "2019-02-23T18:43:46.977067Z",
     "start_time": "2019-02-23T18:43:46.972405Z"
    }
   },
   "outputs": [],
   "source": [
    "results_folder = \"/Users/Antonin/Documents/VUB/semester 4/thesis/validation study/data/results/feature_data\""
   ]
  },
  {
   "cell_type": "code",
   "execution_count": null,
   "metadata": {
    "ExecuteTime": {
     "end_time": "2019-02-23T18:43:47.002056Z",
     "start_time": "2019-02-23T18:43:46.984869Z"
    }
   },
   "outputs": [],
   "source": [
    "files = get_path_to_all_files(results_folder)"
   ]
  },
  {
   "cell_type": "markdown",
   "metadata": {},
   "source": [
    "#### Force plate feature data"
   ]
  },
  {
   "cell_type": "code",
   "execution_count": null,
   "metadata": {
    "ExecuteTime": {
     "end_time": "2019-02-23T18:43:47.015629Z",
     "start_time": "2019-02-23T18:43:47.005050Z"
    }
   },
   "outputs": [],
   "source": [
    "fp_files = [file for file in files if \"FP\" in file]\n",
    "fp_files[1:5]"
   ]
  },
  {
   "cell_type": "markdown",
   "metadata": {},
   "source": [
    "#### Wii Balance Board feature data\n"
   ]
  },
  {
   "cell_type": "code",
   "execution_count": null,
   "metadata": {
    "ExecuteTime": {
     "end_time": "2019-02-23T18:43:47.031889Z",
     "start_time": "2019-02-23T18:43:47.022503Z"
    }
   },
   "outputs": [],
   "source": [
    "wbb_files = [file for file in files if \"FP\" not in file]\n",
    "wbb_files[1:5]"
   ]
  },
  {
   "cell_type": "code",
   "execution_count": null,
   "metadata": {
    "ExecuteTime": {
     "end_time": "2019-02-23T18:43:47.046715Z",
     "start_time": "2019-02-23T18:43:47.036937Z"
    }
   },
   "outputs": [],
   "source": [
    "wbb_files_modified = [filename.replace(\"BB\",\"FP\") for filename in wbb_files]\n",
    "fp_files_modified = [filename.replace(\"FP\",\"BB\") for filename in fp_files]"
   ]
  },
  {
   "cell_type": "code",
   "execution_count": null,
   "metadata": {
    "ExecuteTime": {
     "end_time": "2019-02-23T18:43:47.059167Z",
     "start_time": "2019-02-23T18:43:47.051170Z"
    }
   },
   "outputs": [],
   "source": [
    "fp_files_curated = [file for file in fp_files if file in wbb_files_modified]\n",
    "wbb_files_curated = [file for file in wbb_files if file in fp_files_modified]"
   ]
  },
  {
   "cell_type": "code",
   "execution_count": null,
   "metadata": {
    "ExecuteTime": {
     "end_time": "2019-02-23T18:43:47.077209Z",
     "start_time": "2019-02-23T18:43:47.065568Z"
    }
   },
   "outputs": [],
   "source": [
    "print(fp_files_curated[1])\n",
    "print(wbb_files_curated[1])\n",
    "len(fp_files_curated)"
   ]
  },
  {
   "cell_type": "code",
   "execution_count": null,
   "metadata": {
    "ExecuteTime": {
     "end_time": "2019-02-23T18:43:47.087950Z",
     "start_time": "2019-02-23T18:43:47.082293Z"
    }
   },
   "outputs": [],
   "source": [
    "identical_order_test = [i for i, j in zip(fp_files_curated, wbb_files_curated) if i == j.replace(\"BB\",\"FP\")]"
   ]
  },
  {
   "cell_type": "code",
   "execution_count": null,
   "metadata": {
    "ExecuteTime": {
     "end_time": "2019-02-23T18:43:47.098256Z",
     "start_time": "2019-02-23T18:43:47.092536Z"
    }
   },
   "outputs": [],
   "source": [
    "if len(identical_order_test) == len(fp_files_curated):\n",
    "    print(\"hello\")"
   ]
  },
  {
   "cell_type": "markdown",
   "metadata": {},
   "source": [
    "###  Data manipulation"
   ]
  },
  {
   "cell_type": "code",
   "execution_count": null,
   "metadata": {
    "ExecuteTime": {
     "end_time": "2019-02-23T18:43:47.111618Z",
     "start_time": "2019-02-23T18:43:47.105080Z"
    }
   },
   "outputs": [],
   "source": [
    "def create_index(df):\n",
    "    arrays = [df[\"device\"].values, df[\"subject\"].values, \n",
    "             df[\"trial\"].values, df[\"balance board\"].values]\n",
    "    tuples = list(zip(*arrays))\n",
    "    return pd.MultiIndex.from_tuples(tuples, names=['device', 'subject','trial','balance board'])\n",
    "    "
   ]
  },
  {
   "cell_type": "code",
   "execution_count": null,
   "metadata": {
    "ExecuteTime": {
     "end_time": "2019-02-23T18:43:47.132067Z",
     "start_time": "2019-02-23T18:43:47.117698Z"
    }
   },
   "outputs": [],
   "source": [
    "def create_and_merge_dataframes(files):\n",
    "    time_frames = []\n",
    "    frequency_frames = []\n",
    "    for filepath in files:\n",
    "        with open(filepath) as json_data:\n",
    "            features = json.load(json_data)     \n",
    "            time_features = features[\"time_features\"]\n",
    "            frequency_features = features[\"frequency_features\"]\n",
    "            \n",
    "            for dic in (time_features,frequency_features):\n",
    "                dic[\"device\"] = features[\"device\"]\n",
    "                dic[\"subject\"] = features[\"subject\"]\n",
    "                dic[\"trial\"] = features[\"trial\"]\n",
    "                dic[\"balance board\"] = features[\"balance board\"]\n",
    "\n",
    "        time_frames.append(pd.DataFrame(time_features, index=[0]))\n",
    "        frequency_frames.append(pd.DataFrame(frequency_features,index=[0]))\n",
    "    \n",
    "    time_features_df = pd.concat(time_frames, axis=0)    \n",
    "    frequency_features_df = pd.concat(frequency_frames, axis=0)\n",
    "\n",
    "    df1 = time_features_df.reset_index().drop(['device', 'subject','trial','balance board'], 1)\n",
    "    df1.index = create_index(time_features_df)\n",
    "    df1.drop('index', 1, inplace=True)\n",
    "    df1.sort_index(inplace=True)\n",
    "    \n",
    "    df2 = frequency_features_df.reset_index().drop(['device', 'subject','trial','balance board'], 1)\n",
    "    df2.index = create_index(frequency_features_df)\n",
    "    df2.drop('index', 1, inplace=True)\n",
    "    df2.sort_index(inplace=True)\n",
    "    \n",
    "    return (df1,df2)"
   ]
  },
  {
   "cell_type": "markdown",
   "metadata": {},
   "source": [
    "####  WBB  features results merging"
   ]
  },
  {
   "cell_type": "code",
   "execution_count": null,
   "metadata": {
    "ExecuteTime": {
     "end_time": "2019-02-23T18:43:47.679599Z",
     "start_time": "2019-02-23T18:43:47.136619Z"
    }
   },
   "outputs": [],
   "source": [
    "wbb_time, wbb_freq = create_and_merge_dataframes(wbb_files)"
   ]
  },
  {
   "cell_type": "code",
   "execution_count": null,
   "metadata": {
    "ExecuteTime": {
     "end_time": "2019-02-23T18:43:47.730516Z",
     "start_time": "2019-02-23T18:43:47.682428Z"
    }
   },
   "outputs": [],
   "source": [
    "wbb_time.head()"
   ]
  },
  {
   "cell_type": "code",
   "execution_count": null,
   "metadata": {
    "ExecuteTime": {
     "end_time": "2019-02-23T18:43:47.760803Z",
     "start_time": "2019-02-23T18:43:47.734204Z"
    }
   },
   "outputs": [],
   "source": [
    "wbb_freq.head()"
   ]
  },
  {
   "cell_type": "markdown",
   "metadata": {},
   "source": [
    "#### FP  features results merging"
   ]
  },
  {
   "cell_type": "code",
   "execution_count": null,
   "metadata": {
    "ExecuteTime": {
     "end_time": "2019-02-23T18:43:48.309862Z",
     "start_time": "2019-02-23T18:43:47.764559Z"
    }
   },
   "outputs": [],
   "source": [
    "fp_time,fp_freq = create_and_merge_dataframes(fp_files)"
   ]
  },
  {
   "cell_type": "code",
   "execution_count": null,
   "metadata": {
    "ExecuteTime": {
     "end_time": "2019-02-23T18:43:48.367973Z",
     "start_time": "2019-02-23T18:43:48.316443Z"
    }
   },
   "outputs": [],
   "source": [
    "fp_time.head()"
   ]
  },
  {
   "cell_type": "code",
   "execution_count": null,
   "metadata": {
    "ExecuteTime": {
     "end_time": "2019-02-23T18:43:48.414169Z",
     "start_time": "2019-02-23T18:43:48.372319Z"
    }
   },
   "outputs": [],
   "source": [
    "fp_freq.head()"
   ]
  },
  {
   "cell_type": "markdown",
   "metadata": {},
   "source": [
    "##### OUTLIER DETECTION !!!\n",
    " "
   ]
  },
  {
   "cell_type": "code",
   "execution_count": null,
   "metadata": {
    "ExecuteTime": {
     "end_time": "2019-02-23T18:43:48.448850Z",
     "start_time": "2019-02-23T18:43:48.417788Z"
    }
   },
   "outputs": [],
   "source": [
    "wbb_outlier_values = wbb_time[wbb_time[\"Mean velocity\"]==wbb_time[\"Mean velocity\"].max()]\n",
    "wbb_outlier_values"
   ]
  },
  {
   "cell_type": "code",
   "execution_count": null,
   "metadata": {
    "ExecuteTime": {
     "end_time": "2019-02-23T18:43:48.464290Z",
     "start_time": "2019-02-23T18:43:48.453106Z"
    }
   },
   "outputs": [],
   "source": [
    "outlier_index = wbb_outlier_values.index.tolist()\n",
    "outlier_index"
   ]
  },
  {
   "cell_type": "code",
   "execution_count": null,
   "metadata": {
    "ExecuteTime": {
     "end_time": "2019-02-23T18:43:48.508538Z",
     "start_time": "2019-02-23T18:43:48.467918Z"
    }
   },
   "outputs": [],
   "source": [
    "fp_outlier_values = fp_time.loc[(fp_time.index.get_level_values('subject') == outlier_index[0][1])\n",
    "                                           & (fp_time.index.get_level_values('trial') == outlier_index[0][2]) \n",
    "                                           & (fp_time.index.get_level_values('balance board') == outlier_index[0][3])\n",
    "                                          ]\n",
    "\n",
    "fp_outlier_values"
   ]
  },
  {
   "cell_type": "markdown",
   "metadata": {},
   "source": [
    "## Statistical analysis"
   ]
  },
  {
   "cell_type": "markdown",
   "metadata": {},
   "source": [
    "### General descriptive statistics HTML reports "
   ]
  },
  {
   "cell_type": "code",
   "execution_count": null,
   "metadata": {
    "ExecuteTime": {
     "end_time": "2019-02-23T18:43:48.517849Z",
     "start_time": "2019-02-23T18:43:48.511867Z"
    }
   },
   "outputs": [],
   "source": [
    "wbb_time.head()\n",
    "wbb_time.index.get_level_values(3)\n",
    "wbb_time_1 = wbb_time.loc[(wbb_time.index.get_level_values(3)==\"1\")]"
   ]
  },
  {
   "cell_type": "code",
   "execution_count": null,
   "metadata": {
    "ExecuteTime": {
     "end_time": "2019-02-23T18:43:53.511282Z",
     "start_time": "2019-02-23T18:43:48.521655Z"
    }
   },
   "outputs": [],
   "source": [
    "outputfile = \"/Users/Antonin/Documents/VUB/semester 4/thesis/validation study/notebooks/results/wbb_data_1_time_domain_report.html\"\n",
    "df_profile = pandas_profiling.ProfileReport(wbb_time_1, bins=50)\n",
    "df_profile.to_file(outputfile=outputfile)"
   ]
  },
  {
   "cell_type": "markdown",
   "metadata": {},
   "source": [
    "### Features mean value and standard deviation "
   ]
  },
  {
   "cell_type": "code",
   "execution_count": null,
   "metadata": {
    "ExecuteTime": {
     "end_time": "2019-02-23T18:43:53.521772Z",
     "start_time": "2019-02-23T18:43:53.514462Z"
    }
   },
   "outputs": [],
   "source": [
    "def compute_mean_and_stds(df1, df2):\n",
    "    \"\"\"Compute the mean and standard deviation values for each feature and each balance board.\"\"\"\n",
    "\n",
    "    wbb_and_fp_results = pd.concat([df1, df2], axis=0) \n",
    "    feature_mean_results= wbb_and_fp_results.groupby([wbb_and_fp_results.index.get_level_values(0),wbb_and_fp_results.index.get_level_values(3)]).mean().transpose().stack(0).unstack()\n",
    "    feature_std_results= wbb_and_fp_results.groupby([wbb_and_fp_results.index.get_level_values(0),wbb_and_fp_results.index.get_level_values(3)]).std().transpose().stack(0).unstack()\n",
    "    aggregated_results = (feature_mean_results, feature_std_results)\n",
    "    \n",
    "    return aggregated_results"
   ]
  },
  {
   "cell_type": "code",
   "execution_count": null,
   "metadata": {
    "ExecuteTime": {
     "end_time": "2019-02-23T18:43:53.567665Z",
     "start_time": "2019-02-23T18:43:53.526684Z"
    }
   },
   "outputs": [],
   "source": [
    "time_mean_results, time_std_results = compute_mean_and_stds(wbb_time, fp_time)"
   ]
  },
  {
   "cell_type": "code",
   "execution_count": null,
   "metadata": {
    "ExecuteTime": {
     "end_time": "2019-02-23T18:43:53.594276Z",
     "start_time": "2019-02-23T18:43:53.570170Z"
    }
   },
   "outputs": [],
   "source": [
    "time_mean_results.head()"
   ]
  },
  {
   "cell_type": "markdown",
   "metadata": {},
   "source": [
    "### Spearman correlation"
   ]
  },
  {
   "cell_type": "code",
   "execution_count": null,
   "metadata": {
    "ExecuteTime": {
     "end_time": "2019-02-23T18:43:53.608482Z",
     "start_time": "2019-02-23T18:43:53.597304Z"
    }
   },
   "outputs": [],
   "source": [
    "def compute_spearman_correlation(df1, df2):\n",
    "    \n",
    "    wbb_numbers = [\"1\", \"2\", \"3\", \"4\"]\n",
    "    dfs_1 = [df1.loc[(df1.index.get_level_values(3) == number)] for number in wbb_numbers]\n",
    "    dfs_2 = [df2.loc[(df2.index.get_level_values(3) == number)] for number in wbb_numbers]\n",
    "    \n",
    "    result_dict = {key:{} for key in df1.columns}\n",
    "    \n",
    "    for (df1, df2, number) in zip(dfs_1, dfs_2, wbb_numbers):\n",
    "        # Loop over each feature\n",
    "        for column in df1.columns:\n",
    "            x = df1[column]\n",
    "            y = df2[column]\n",
    "\n",
    "            # Compute the spearman coefficient(rho) and the corresponding p-value\n",
    "            rho, p_value = stats.spearmanr(x, y, nan_policy=\"propagate\")\n",
    "\n",
    "            # Store the results\n",
    "            result_dict[column][number] = {}\n",
    "            result_dict[column][number][\"p-value\"] = p_value\n",
    "            result_dict[column][number][\"rho\"] = rho\n",
    "            \n",
    "    result_dict_collapsed = {(outer_k, inner_k): inner_v for outer_k in result_dict\n",
    "               for inner_k, inner_v in result_dict[outer_k].items()}\n",
    "\n",
    "    aggregated_results = pd.DataFrame.from_dict(result_dict_collapsed).transpose()\n",
    "    aggregated_results = aggregated_results.unstack().stack(0).unstack()\n",
    "\n",
    "    return aggregated_results"
   ]
  },
  {
   "cell_type": "code",
   "execution_count": null,
   "metadata": {
    "ExecuteTime": {
     "end_time": "2019-02-23T18:43:53.722224Z",
     "start_time": "2019-02-23T18:43:53.612216Z"
    }
   },
   "outputs": [],
   "source": [
    "time_spearman_results = compute_spearman_correlation(wbb_time, fp_time)"
   ]
  },
  {
   "cell_type": "code",
   "execution_count": null,
   "metadata": {
    "ExecuteTime": {
     "end_time": "2019-02-23T18:43:53.746045Z",
     "start_time": "2019-02-23T18:43:53.725133Z"
    }
   },
   "outputs": [],
   "source": [
    "time_spearman_results.head()"
   ]
  },
  {
   "cell_type": "code",
   "execution_count": null,
   "metadata": {
    "ExecuteTime": {
     "end_time": "2019-02-23T18:43:53.756217Z",
     "start_time": "2019-02-23T18:43:53.749809Z"
    }
   },
   "outputs": [],
   "source": [
    "wbb_time.columns"
   ]
  },
  {
   "cell_type": "markdown",
   "metadata": {},
   "source": [
    "### Pearson's correlation coefficient and regression lines equations \n"
   ]
  },
  {
   "cell_type": "code",
   "execution_count": null,
   "metadata": {
    "ExecuteTime": {
     "end_time": "2019-02-23T18:43:53.765378Z",
     "start_time": "2019-02-23T18:43:53.760043Z"
    }
   },
   "outputs": [],
   "source": [
    "fp_time_cut = fp_time[:wbb_time.shape[0]]"
   ]
  },
  {
   "cell_type": "code",
   "execution_count": null,
   "metadata": {
    "ExecuteTime": {
     "end_time": "2019-02-23T18:43:53.785312Z",
     "start_time": "2019-02-23T18:43:53.768659Z"
    }
   },
   "outputs": [],
   "source": [
    "def plot_correlation(df1,df2,name=\"time_domain\"):\n",
    "    columns = df1.columns\n",
    "    fig, axs = plt.subplots(7,3,figsize=(15,25),facecolor='w', edgecolor='k')\n",
    "    fig.subplots_adjust(hspace = .5)\n",
    "    #axs[-1, -1].axis('off')\n",
    "    for ax, column in zip(axs.ravel(), columns):\n",
    "        x = df1[column]\n",
    "        y = df2[column]\n",
    "        slope, intercept, r_value, p_value, std_err = stats.linregress(x, y)\n",
    "        ax.plot(x, y, '.', label='original data')\n",
    "        ax.plot(x, intercept + slope*x, 'black', label='fitted line', linewidth=0.3)\n",
    "        ax.set_xlabel('Balance Board')\n",
    "        ax.set_ylabel('Force plate')\n",
    "        ax.set_title(column, weight = 600)\n",
    "        r_squared = round(r_value**2,4)\n",
    "        ax.text(0.8, 0.4, \"p-value = {}\".format(round(p_value,4)), fontsize=9, horizontalalignment='center',\n",
    "                verticalalignment='center', transform=ax.transAxes)\n",
    "        ax.text(0.8, 0.3, \"R\\u00b2={}\".format(r_squared), fontsize=9, horizontalalignment='center',\n",
    "                verticalalignment='center', transform=ax.transAxes)\n",
    "        ax.text(0.8, 0.2, \"Slope = {}\".format(round(slope,4)), fontsize=9, horizontalalignment='center',\n",
    "                verticalalignment='center', transform=ax.transAxes)\n",
    "        ax.text(0.8, 0.1, \"Intercept = {}\".format(round(intercept,4)), fontsize=9, horizontalalignment='center',\n",
    "                verticalalignment='center', transform=ax.transAxes)\n",
    "        #ax.legend()\n",
    "    plt.savefig(\"results/{}_correlation_plots.png\".format(name), bbox_inches='tight')\n"
   ]
  },
  {
   "cell_type": "code",
   "execution_count": null,
   "metadata": {
    "ExecuteTime": {
     "end_time": "2019-02-23T18:44:01.875860Z",
     "start_time": "2019-02-23T18:43:53.789470Z"
    }
   },
   "outputs": [],
   "source": [
    "plot_correlation(wbb_time, fp_time_cut)"
   ]
  },
  {
   "cell_type": "code",
   "execution_count": null,
   "metadata": {
    "ExecuteTime": {
     "end_time": "2019-02-23T18:44:01.885046Z",
     "start_time": "2019-02-23T18:44:01.878653Z"
    }
   },
   "outputs": [],
   "source": [
    "def plot_correlation_2(df1,df2):\n",
    "    columns = df1.columns\n",
    "    fig, axs = plt.subplots(6,3,figsize=(20,30),facecolor='w', edgecolor='k')\n",
    "    fig.subplots_adjust(hspace = .5)\n",
    "    axs[-1, -1].axis('off')\n",
    "    for ax, column in zip(axs.ravel(), columns):\n",
    "        x = df1[column]\n",
    "        y = df2[column]\n",
    "        regression = ols(\"data ~ x\", data=dict(data=y, x=x)).fit(covtype=\"scale\")\n",
    "        \n",
    "        # Find outliers #\n",
    "        test = regression.outlier_test()\n",
    "        outliers = ((x[i],y[i]) for i,t in enumerate(test[\"unadj_p\"]) if t < 0.5)\n",
    "        #print ('Outliers: ', list(outliers))\n",
    "        \n",
    "        smgraphics.regressionplots.plot_fit(regression, 1, ax=ax)\n",
    "        # Add line\n",
    "        smgraphics.regressionplots.abline_plot(model_results=regression, ax=ax)\n",
    "        \n",
    "        #ax.plot(x, y, '.', label='original data')\n",
    "        ax.set_xlabel('Balance Board')\n",
    "        ax.set_ylabel('Force plate')\n",
    "        ax.set_title(column, weight = 600)\n",
    "\n",
    "        #ax.legend()\n",
    "    #plt.savefig(\"results/{}_correlation_plots.png\".format(name), bbox_inches='tight')\n",
    "\n"
   ]
  },
  {
   "cell_type": "code",
   "execution_count": null,
   "metadata": {
    "ExecuteTime": {
     "end_time": "2019-02-23T18:44:01.893282Z",
     "start_time": "2019-02-23T18:44:01.888474Z"
    }
   },
   "outputs": [],
   "source": [
    "#plot_correlation_2(wbb_time, fp_time_cut)"
   ]
  },
  {
   "cell_type": "markdown",
   "metadata": {},
   "source": [
    "### Bland and Altman plots + LOA (limit of agreement)"
   ]
  },
  {
   "cell_type": "code",
   "execution_count": null,
   "metadata": {
    "ExecuteTime": {
     "end_time": "2019-02-23T18:44:01.912580Z",
     "start_time": "2019-02-23T18:44:01.898716Z"
    }
   },
   "outputs": [],
   "source": [
    "def bland_altman_plot(df1, df2, name=\"time_domain\"):\n",
    "    columns = df1.columns\n",
    "    fig, axs = plt.subplots(6,3,figsize=(20,30),facecolor='w', edgecolor='k')\n",
    "    fig.subplots_adjust(hspace = .5)\n",
    "    df1= df1.reorder_levels(['balance board','device','subject','trial']).sort_index()\n",
    "    df2= df2.reorder_levels(['balance board','device','subject','trial']).sort_index()\n",
    "\n",
    "    for ax, column in zip(axs.ravel(), columns):\n",
    "        x = df1[column].values\n",
    "        y = df2[column].values\n",
    "        data1 = np.asarray(x)\n",
    "        data2 = np.asarray(y)\n",
    "        #mean = np.mean([x, y], axis=0)\n",
    "        trials = [trial for trial in range(len(data1))]\n",
    "        diff = x - y \n",
    "        md = np.mean(diff)               \n",
    "        sd = np.std(diff, axis=0)\n",
    "\n",
    "        ax.scatter(trials, diff, marker='.',s=60, color = \"gray\",  )\n",
    "        trials_limits = [x * 18 + 0.5 for x in range(1, 4)]\n",
    "        for limit in trials_limits:\n",
    "            ax.axvline(limit,color='black', linestyle='--', linewidth=0.5)\n",
    "\n",
    "        ax.axhline(md,color='tomato', linestyle='--')\n",
    "        ax.axhline(md + 2*sd, color='teal', linestyle='--', linewidth=0.5)\n",
    "        ax.axhline(md - 2*sd, color='teal', linestyle='--', linewidth=0.5)\n",
    "        ax.set_xlabel('Trials')\n",
    "        ax.set_ylabel('Difference')\n",
    "        ax.set_title(column, weight = 600)\n",
    "        \n",
    "        #ax.legend()\n",
    "    plt.savefig(\"results/{}_bland_altman_plots.png\".format(name), bbox_inches='tight')"
   ]
  },
  {
   "cell_type": "code",
   "execution_count": null,
   "metadata": {
    "ExecuteTime": {
     "end_time": "2019-02-23T18:44:09.886441Z",
     "start_time": "2019-02-23T18:44:01.916920Z"
    }
   },
   "outputs": [],
   "source": [
    "bland_altman_plot(wbb_time,fp_time)"
   ]
  },
  {
   "cell_type": "markdown",
   "metadata": {},
   "source": [
    "###  Intraclass correlation coefficient (ICC) \n",
    "\n"
   ]
  },
  {
   "cell_type": "code",
   "execution_count": null,
   "metadata": {
    "ExecuteTime": {
     "end_time": "2019-02-23T18:44:10.413108Z",
     "start_time": "2019-02-23T18:44:09.889567Z"
    }
   },
   "outputs": [],
   "source": [
    "from rpy2.robjects import DataFrame, FloatVector, pandas2ri\n",
    "from rpy2.robjects.packages import importr"
   ]
  },
  {
   "cell_type": "code",
   "execution_count": null,
   "metadata": {
    "ExecuteTime": {
     "end_time": "2019-02-23T18:44:10.427582Z",
     "start_time": "2019-02-23T18:44:10.417127Z"
    }
   },
   "outputs": [],
   "source": [
    "rpy2.__version__"
   ]
  },
  {
   "cell_type": "code",
   "execution_count": null,
   "metadata": {
    "ExecuteTime": {
     "end_time": "2019-02-23T18:44:10.442845Z",
     "start_time": "2019-02-23T18:44:10.431908Z"
    }
   },
   "outputs": [],
   "source": [
    "def compute_ICC(df1):\n",
    "    \"\"\"\n",
    "    Compute the two-way mixed ICC.\n",
    "\n",
    "    References\n",
    "    ----------\n",
    "    .. [1] R library used for the ICC implementation: http://www.personality-project.org/r/html/ICC.html\n",
    "\n",
    "    Notes\n",
    "    -----\n",
    "    More info on what is the two-way mixed ICC: https://www.uvm.edu/~dhowell/methods8/Supplements/icc/More%20on%20ICCs.pdf\n",
    "    \"\"\"\n",
    "\n",
    "    psych = importr(\"psych\")\n",
    "    wbb_numbers = [\"1\", \"2\", \"3\", \"4\"]\n",
    "    dfs_1 = [df1.loc[(df1.index.get_level_values(3) == number)] for number in wbb_numbers]\n",
    "    result_dict = {}\n",
    "    # Loop over each feature\n",
    "    for column in df1.columns:\n",
    "        r_df = DataFrame({\"WBB 1 feature\": FloatVector(dfs_1[0][column]),\n",
    "                              \"WBB 2 feature\": FloatVector(dfs_1[1][column]),\n",
    "                              \"WBB 3 feature\": FloatVector(dfs_1[2][column]),\n",
    "                              \"WBB 4 feature\": FloatVector(dfs_1[3][column])})\n",
    "        # Compute the two way mixed ICC\n",
    "        icc_res = psych.ICC(r_df)\n",
    "        iccs_r_df = icc_res[0]\n",
    "\n",
    "        iccs_df = pandas2ri.ri2py(iccs_r_df)\n",
    "\n",
    "        # Select the ICC that corresponds to the 2 way mixed model (see links above)\n",
    "        icc = iccs_df.iloc[4][\"ICC\"]\n",
    "        icc_lower_bound = iccs_df.iloc[5][\"lower bound\"]\n",
    "        icc_upper_bound = iccs_df.iloc[5][\"upper bound\"]\n",
    "        icc_result = \"{}({}, {})\".format(round(icc, 4), round(icc_lower_bound, 4), round(icc_upper_bound, 4))\n",
    "\n",
    "        # Store the results\n",
    "        result_dict[column] = {}\n",
    "        result_dict[column][\"ICC\"] = icc_result\n",
    "\n",
    "    return result_dict"
   ]
  },
  {
   "cell_type": "code",
   "execution_count": null,
   "metadata": {
    "ExecuteTime": {
     "end_time": "2019-02-23T18:44:13.200500Z",
     "start_time": "2019-02-23T18:44:10.446943Z"
    }
   },
   "outputs": [],
   "source": [
    "ICC_results = compute_ICC(wbb_time)"
   ]
  },
  {
   "cell_type": "code",
   "execution_count": null,
   "metadata": {
    "ExecuteTime": {
     "end_time": "2019-02-23T18:44:13.210568Z",
     "start_time": "2019-02-23T18:44:13.202999Z"
    }
   },
   "outputs": [],
   "source": [
    "ICC_results_df = pd.DataFrame.from_dict(ICC_results).transpose()"
   ]
  },
  {
   "cell_type": "code",
   "execution_count": null,
   "metadata": {
    "ExecuteTime": {
     "end_time": "2019-02-23T18:44:13.231053Z",
     "start_time": "2019-02-23T18:44:13.214737Z"
    }
   },
   "outputs": [],
   "source": [
    "ICC_results_df"
   ]
  },
  {
   "cell_type": "code",
   "execution_count": null,
   "metadata": {
    "ExecuteTime": {
     "end_time": "2019-02-23T18:44:13.243177Z",
     "start_time": "2019-02-23T18:44:13.234705Z"
    }
   },
   "outputs": [],
   "source": [
    "def compute_ICC_2(df1):\n",
    "    \"\"\"\n",
    "    Compute the two-way mixed ICC.\n",
    "\n",
    "    References\n",
    "    ----------\n",
    "    .. [1] R library used for the ICC implementation: https://cran.r-project.org/web/packages/irr/irr.pdf\n",
    "\n",
    "    Notes\n",
    "    -----\n",
    "    More info on what is the two-way mixed ICC: https://www.uvm.edu/~dhowell/methods8/Supplements/icc/More%20on%20ICCs.pdf\n",
    "    \"\"\"\n",
    "\n",
    "    irr = importr(\"irr\")\n",
    "\n",
    "    wbb_numbers = [\"1\", \"2\", \"3\", \"4\"]\n",
    "    dfs_1 = [df1.loc[(df1.index.get_level_values(3) == number)] for number in wbb_numbers]\n",
    "    result_dict = {}\n",
    "    # Loop over each feature\n",
    "    for column in df1.columns:\n",
    "        r_df = DataFrame({\"WBB 1 feature\": FloatVector(dfs_1[0][column]),\n",
    "                              \"WBB 2 feature\": FloatVector(dfs_1[1][column]),\n",
    "                              \"WBB 3 feature\": FloatVector(dfs_1[2][column]),\n",
    "                              \"WBB 4 feature\": FloatVector(dfs_1[3][column])})\n",
    "        # Compute the two way mixed ICC\n",
    "        icc_res = irr.icc(r_df,\"twoway\",\"consistency\",\"average\")\n",
    "        \n",
    "        result_dict[column] = dict(zip(icc_res.names, list(icc_res)))\n",
    "        \n",
    "    return result_dict"
   ]
  },
  {
   "cell_type": "code",
   "execution_count": null,
   "metadata": {
    "ExecuteTime": {
     "end_time": "2019-02-23T18:44:13.373172Z",
     "start_time": "2019-02-23T18:44:13.247017Z"
    }
   },
   "outputs": [],
   "source": [
    "ICC_results = compute_ICC_2(wbb_time)"
   ]
  },
  {
   "cell_type": "code",
   "execution_count": null,
   "metadata": {
    "ExecuteTime": {
     "end_time": "2019-02-23T18:44:13.384080Z",
     "start_time": "2019-02-23T18:44:13.376864Z"
    }
   },
   "outputs": [],
   "source": [
    "ICC_results_df = pd.DataFrame.from_dict(ICC_results).transpose()"
   ]
  },
  {
   "cell_type": "code",
   "execution_count": null,
   "metadata": {
    "ExecuteTime": {
     "end_time": "2019-02-23T18:44:13.547080Z",
     "start_time": "2019-02-23T18:44:13.388101Z"
    }
   },
   "outputs": [],
   "source": [
    "ICC_results_df"
   ]
  },
  {
   "cell_type": "code",
   "execution_count": null,
   "metadata": {},
   "outputs": [],
   "source": []
  },
  {
   "cell_type": "code",
   "execution_count": null,
   "metadata": {},
   "outputs": [],
   "source": []
  }
 ],
 "metadata": {
  "kernelspec": {
   "display_name": "Python 3",
   "language": "python",
   "name": "python3"
  },
  "language_info": {
   "codemirror_mode": {
    "name": "ipython",
    "version": 3
   },
   "file_extension": ".py",
   "mimetype": "text/x-python",
   "name": "python",
   "nbconvert_exporter": "python",
   "pygments_lexer": "ipython3",
   "version": "3.6.5"
  },
  "toc": {
   "base_numbering": 1,
   "nav_menu": {
    "height": "400px",
    "width": "512px"
   },
   "number_sections": true,
   "sideBar": true,
   "skip_h1_title": false,
   "title_cell": "Table of Contents",
   "title_sidebar": "Contents",
   "toc_cell": false,
   "toc_position": {
    "height": "calc(100% - 180px)",
    "left": "10px",
    "top": "150px",
    "width": "314px"
   },
   "toc_section_display": true,
   "toc_window_display": true
  },
  "varInspector": {
   "cols": {
    "lenName": 16,
    "lenType": 16,
    "lenVar": 40
   },
   "kernels_config": {
    "python": {
     "delete_cmd_postfix": "",
     "delete_cmd_prefix": "del ",
     "library": "var_list.py",
     "varRefreshCmd": "print(var_dic_list())"
    },
    "r": {
     "delete_cmd_postfix": ") ",
     "delete_cmd_prefix": "rm(",
     "library": "var_list.r",
     "varRefreshCmd": "cat(var_dic_list()) "
    }
   },
   "oldHeight": 845,
   "position": {
    "height": "867px",
    "left": "1561px",
    "right": "12px",
    "top": "112px",
    "width": "347px"
   },
   "types_to_exclude": [
    "module",
    "function",
    "builtin_function_or_method",
    "instance",
    "_Feature"
   ],
   "varInspector_section_display": "block",
   "window_display": false
  },
  "widgets": {
   "application/vnd.jupyter.widget-state+json": {
    "state": {},
    "version_major": 2,
    "version_minor": 0
   }
  }
 },
 "nbformat": 4,
 "nbformat_minor": 2
}
