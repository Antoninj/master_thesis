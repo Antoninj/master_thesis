{
 "cells": [
  {
   "cell_type": "raw",
   "metadata": {},
   "source": [
    "import sys\n",
    "print(sys.version)"
   ]
  },
  {
   "cell_type": "code",
   "execution_count": 1,
   "metadata": {
    "ExecuteTime": {
     "end_time": "2019-02-27T23:05:28.779196Z",
     "start_time": "2019-02-27T23:05:25.713556Z"
    }
   },
   "outputs": [],
   "source": [
    "import os\n",
    "import json\n",
    "import pandas as pd\n",
    "import pandas_profiling\n",
    "import numpy as np\n",
    "from scipy import stats\n",
    "import statsmodels.api as sm\n",
    "from patsy import dmatrices\n",
    "from matplotlib import pyplot as plt\n",
    "import rpy2\n",
    "import statsmodels.api as smapi\n",
    "from statsmodels.formula.api import ols\n",
    "import statsmodels.graphics as smgraphics"
   ]
  },
  {
   "cell_type": "code",
   "execution_count": 2,
   "metadata": {
    "ExecuteTime": {
     "end_time": "2019-02-27T23:05:28.904605Z",
     "start_time": "2019-02-27T23:05:28.858723Z"
    }
   },
   "outputs": [],
   "source": [
    "%matplotlib inline"
   ]
  },
  {
   "cell_type": "markdown",
   "metadata": {},
   "source": [
    "# Statistical analysis of feature computations results\n"
   ]
  },
  {
   "cell_type": "markdown",
   "metadata": {},
   "source": [
    "## Data importation and manipulation"
   ]
  },
  {
   "cell_type": "code",
   "execution_count": 3,
   "metadata": {
    "ExecuteTime": {
     "end_time": "2019-02-27T23:05:28.988424Z",
     "start_time": "2019-02-27T23:05:28.980488Z"
    }
   },
   "outputs": [],
   "source": [
    "def get_path_to_all_files(folder_name):\n",
    "    \"\"\"Recursively get all filepaths from a directory tree.\"\"\"\n",
    "\n",
    "    filepaths = []\n",
    "    for dirname, dirnames, filenames in os.walk(folder_name):\n",
    "        for filename in filenames:\n",
    "            if '.DS_Store' not in filename:\n",
    "                filepaths.append(os.path.join(dirname, filename))\n",
    "\n",
    "    return filepaths"
   ]
  },
  {
   "cell_type": "markdown",
   "metadata": {},
   "source": [
    "### Data importation\n"
   ]
  },
  {
   "cell_type": "code",
   "execution_count": 4,
   "metadata": {
    "ExecuteTime": {
     "end_time": "2019-02-27T23:05:29.067033Z",
     "start_time": "2019-02-27T23:05:29.060334Z"
    }
   },
   "outputs": [],
   "source": [
    "results_folder = \"/Users/Antonin/Documents/VUB/semester 4/thesis/validation study/data/results/feature_data\""
   ]
  },
  {
   "cell_type": "code",
   "execution_count": 5,
   "metadata": {
    "ExecuteTime": {
     "end_time": "2019-02-27T23:05:29.148712Z",
     "start_time": "2019-02-27T23:05:29.139093Z"
    }
   },
   "outputs": [],
   "source": [
    "files = get_path_to_all_files(results_folder)"
   ]
  },
  {
   "cell_type": "markdown",
   "metadata": {},
   "source": [
    "#### Force plate feature data"
   ]
  },
  {
   "cell_type": "code",
   "execution_count": 6,
   "metadata": {
    "ExecuteTime": {
     "end_time": "2019-02-27T23:05:29.235611Z",
     "start_time": "2019-02-27T23:05:29.221875Z"
    }
   },
   "outputs": [
    {
     "data": {
      "text/plain": [
       "['/Users/Antonin/Documents/VUB/semester 4/thesis/validation study/data/results/feature_data/Repro2/FP/1_3_cop_features.json',\n",
       " '/Users/Antonin/Documents/VUB/semester 4/thesis/validation study/data/results/feature_data/Repro2/FP/2_3_cop_features.json',\n",
       " '/Users/Antonin/Documents/VUB/semester 4/thesis/validation study/data/results/feature_data/Repro2/FP/3_3_cop_features.json',\n",
       " '/Users/Antonin/Documents/VUB/semester 4/thesis/validation study/data/results/feature_data/Repro2/FP/4_3_cop_features.json']"
      ]
     },
     "execution_count": 6,
     "metadata": {},
     "output_type": "execute_result"
    }
   ],
   "source": [
    "fp_files = [file for file in files if \"FP\" in file]\n",
    "fp_files[1:5]"
   ]
  },
  {
   "cell_type": "markdown",
   "metadata": {},
   "source": [
    "#### Wii Balance Board feature data\n"
   ]
  },
  {
   "cell_type": "code",
   "execution_count": 7,
   "metadata": {
    "ExecuteTime": {
     "end_time": "2019-02-27T23:05:29.327380Z",
     "start_time": "2019-02-27T23:05:29.319859Z"
    }
   },
   "outputs": [
    {
     "data": {
      "text/plain": [
       "['/Users/Antonin/Documents/VUB/semester 4/thesis/validation study/data/results/feature_data/Repro2/BB/1_3_cop_features.json',\n",
       " '/Users/Antonin/Documents/VUB/semester 4/thesis/validation study/data/results/feature_data/Repro2/BB/2_3_cop_features.json',\n",
       " '/Users/Antonin/Documents/VUB/semester 4/thesis/validation study/data/results/feature_data/Repro2/BB/3_3_cop_features.json',\n",
       " '/Users/Antonin/Documents/VUB/semester 4/thesis/validation study/data/results/feature_data/Repro2/BB/4_3_cop_features.json']"
      ]
     },
     "execution_count": 7,
     "metadata": {},
     "output_type": "execute_result"
    }
   ],
   "source": [
    "wbb_files = [file for file in files if \"FP\" not in file]\n",
    "wbb_files[1:5]"
   ]
  },
  {
   "cell_type": "code",
   "execution_count": 8,
   "metadata": {
    "ExecuteTime": {
     "end_time": "2019-02-27T23:05:29.420296Z",
     "start_time": "2019-02-27T23:05:29.413352Z"
    }
   },
   "outputs": [],
   "source": [
    "wbb_files_modified = [filename.replace(\"BB\",\"FP\") for filename in wbb_files]\n",
    "fp_files_modified = [filename.replace(\"FP\",\"BB\") for filename in fp_files]"
   ]
  },
  {
   "cell_type": "code",
   "execution_count": 9,
   "metadata": {
    "ExecuteTime": {
     "end_time": "2019-02-27T23:05:29.526595Z",
     "start_time": "2019-02-27T23:05:29.516116Z"
    }
   },
   "outputs": [],
   "source": [
    "fp_files_curated = [file for file in fp_files if file in wbb_files_modified]\n",
    "wbb_files_curated = [file for file in wbb_files if file in fp_files_modified]"
   ]
  },
  {
   "cell_type": "code",
   "execution_count": 10,
   "metadata": {
    "ExecuteTime": {
     "end_time": "2019-02-27T23:05:29.628642Z",
     "start_time": "2019-02-27T23:05:29.619077Z"
    }
   },
   "outputs": [
    {
     "name": "stdout",
     "output_type": "stream",
     "text": [
      "/Users/Antonin/Documents/VUB/semester 4/thesis/validation study/data/results/feature_data/Repro2/FP/1_3_cop_features.json\n",
      "/Users/Antonin/Documents/VUB/semester 4/thesis/validation study/data/results/feature_data/Repro2/BB/1_3_cop_features.json\n"
     ]
    },
    {
     "data": {
      "text/plain": [
       "72"
      ]
     },
     "execution_count": 10,
     "metadata": {},
     "output_type": "execute_result"
    }
   ],
   "source": [
    "print(fp_files_curated[1])\n",
    "print(wbb_files_curated[1])\n",
    "len(fp_files_curated)"
   ]
  },
  {
   "cell_type": "code",
   "execution_count": 11,
   "metadata": {
    "ExecuteTime": {
     "end_time": "2019-02-27T23:05:29.727085Z",
     "start_time": "2019-02-27T23:05:29.718530Z"
    }
   },
   "outputs": [],
   "source": [
    "identical_order_test = [i for i, j in zip(fp_files_curated, wbb_files_curated) if i == j.replace(\"BB\",\"FP\")]"
   ]
  },
  {
   "cell_type": "code",
   "execution_count": 12,
   "metadata": {
    "ExecuteTime": {
     "end_time": "2019-02-27T23:05:29.823670Z",
     "start_time": "2019-02-27T23:05:29.817975Z"
    }
   },
   "outputs": [
    {
     "name": "stdout",
     "output_type": "stream",
     "text": [
      "hello\n"
     ]
    }
   ],
   "source": [
    "if len(identical_order_test) == len(fp_files_curated):\n",
    "    print(\"hello\")"
   ]
  },
  {
   "cell_type": "markdown",
   "metadata": {},
   "source": [
    "###  Data manipulation"
   ]
  },
  {
   "cell_type": "code",
   "execution_count": 13,
   "metadata": {
    "ExecuteTime": {
     "end_time": "2019-02-27T23:05:29.914398Z",
     "start_time": "2019-02-27T23:05:29.904895Z"
    }
   },
   "outputs": [],
   "source": [
    "def create_index(df):\n",
    "    arrays = [df[\"device\"].values, df[\"subject\"].values, \n",
    "             df[\"trial\"].values, df[\"balance board\"].values]\n",
    "    tuples = list(zip(*arrays))\n",
    "    return pd.MultiIndex.from_tuples(tuples, names=['device', 'subject','trial','balance board'])\n",
    "    "
   ]
  },
  {
   "cell_type": "code",
   "execution_count": 14,
   "metadata": {
    "ExecuteTime": {
     "end_time": "2019-02-27T23:05:30.020419Z",
     "start_time": "2019-02-27T23:05:30.005149Z"
    }
   },
   "outputs": [],
   "source": [
    "def create_and_merge_dataframes(files):\n",
    "    time_frames = []\n",
    "    frequency_frames = []\n",
    "    for filepath in files:\n",
    "        with open(filepath) as json_data:\n",
    "            features = json.load(json_data)     \n",
    "            time_features = features[\"time_features\"]\n",
    "            frequency_features = features[\"frequency_features\"]\n",
    "            \n",
    "            for dic in (time_features,frequency_features):\n",
    "                dic[\"device\"] = features[\"device\"]\n",
    "                dic[\"subject\"] = features[\"subject\"]\n",
    "                dic[\"trial\"] = features[\"trial\"]\n",
    "                dic[\"balance board\"] = features[\"balance board\"]\n",
    "\n",
    "        time_frames.append(pd.DataFrame(time_features, index=[0]))\n",
    "        frequency_frames.append(pd.DataFrame(frequency_features,index=[0]))\n",
    "    \n",
    "    time_features_df = pd.concat(time_frames, axis=0)    \n",
    "    frequency_features_df = pd.concat(frequency_frames, axis=0)\n",
    "\n",
    "    df1 = time_features_df.reset_index().drop(['device', 'subject','trial','balance board'], 1)\n",
    "    df1.index = create_index(time_features_df)\n",
    "    df1.drop('index', 1, inplace=True)\n",
    "    df1.sort_index(inplace=True)\n",
    "    \n",
    "    df2 = frequency_features_df.reset_index().drop(['device', 'subject','trial','balance board'], 1)\n",
    "    df2.index = create_index(frequency_features_df)\n",
    "    df2.drop('index', 1, inplace=True)\n",
    "    df2.sort_index(inplace=True)\n",
    "    \n",
    "    return (df1,df2)"
   ]
  },
  {
   "cell_type": "markdown",
   "metadata": {},
   "source": [
    "####  WBB  features results merging"
   ]
  },
  {
   "cell_type": "code",
   "execution_count": 15,
   "metadata": {
    "ExecuteTime": {
     "end_time": "2019-02-27T23:05:30.803893Z",
     "start_time": "2019-02-27T23:05:30.153108Z"
    }
   },
   "outputs": [],
   "source": [
    "wbb_time, wbb_freq = create_and_merge_dataframes(wbb_files)"
   ]
  },
  {
   "cell_type": "code",
   "execution_count": 16,
   "metadata": {
    "ExecuteTime": {
     "end_time": "2019-02-27T23:05:31.443054Z",
     "start_time": "2019-02-27T23:05:31.409768Z"
    }
   },
   "outputs": [
    {
     "data": {
      "text/html": [
       "<div>\n",
       "<style scoped>\n",
       "    .dataframe tbody tr th:only-of-type {\n",
       "        vertical-align: middle;\n",
       "    }\n",
       "\n",
       "    .dataframe tbody tr th {\n",
       "        vertical-align: top;\n",
       "    }\n",
       "\n",
       "    .dataframe thead th {\n",
       "        text-align: right;\n",
       "    }\n",
       "</style>\n",
       "<table border=\"1\" class=\"dataframe\">\n",
       "  <thead>\n",
       "    <tr style=\"text-align: right;\">\n",
       "      <th></th>\n",
       "      <th></th>\n",
       "      <th></th>\n",
       "      <th></th>\n",
       "      <th>Mean distance</th>\n",
       "      <th>Mean distance-ML</th>\n",
       "      <th>Mean distance-AP</th>\n",
       "      <th>Rms distance</th>\n",
       "      <th>Rms distance-ML</th>\n",
       "      <th>Rms distance-AP</th>\n",
       "      <th>Range</th>\n",
       "      <th>Range-ML</th>\n",
       "      <th>Range-AP</th>\n",
       "      <th>Mean velocity</th>\n",
       "      <th>Mean velocity-ML</th>\n",
       "      <th>Mean velocity-AP</th>\n",
       "      <th>95% confidence circle area</th>\n",
       "      <th>95% confidence elipse area</th>\n",
       "      <th>Sway area</th>\n",
       "      <th>Mean frequency</th>\n",
       "      <th>Mean frequency-ML</th>\n",
       "      <th>Mean frequency-AP</th>\n",
       "      <th>Fractal dimension-CC</th>\n",
       "      <th>Fractal dimension-CE</th>\n",
       "    </tr>\n",
       "    <tr>\n",
       "      <th>device</th>\n",
       "      <th>subject</th>\n",
       "      <th>trial</th>\n",
       "      <th>balance board</th>\n",
       "      <th></th>\n",
       "      <th></th>\n",
       "      <th></th>\n",
       "      <th></th>\n",
       "      <th></th>\n",
       "      <th></th>\n",
       "      <th></th>\n",
       "      <th></th>\n",
       "      <th></th>\n",
       "      <th></th>\n",
       "      <th></th>\n",
       "      <th></th>\n",
       "      <th></th>\n",
       "      <th></th>\n",
       "      <th></th>\n",
       "      <th></th>\n",
       "      <th></th>\n",
       "      <th></th>\n",
       "      <th></th>\n",
       "      <th></th>\n",
       "    </tr>\n",
       "  </thead>\n",
       "  <tbody>\n",
       "    <tr>\n",
       "      <th rowspan=\"5\" valign=\"top\">BB</th>\n",
       "      <th rowspan=\"5\" valign=\"top\">1</th>\n",
       "      <th rowspan=\"4\" valign=\"top\">1</th>\n",
       "      <th>1</th>\n",
       "      <td>1.115983</td>\n",
       "      <td>0.789119</td>\n",
       "      <td>2.167205</td>\n",
       "      <td>1.376225</td>\n",
       "      <td>0.973138</td>\n",
       "      <td>2.539252</td>\n",
       "      <td>3.176887</td>\n",
       "      <td>4.308547</td>\n",
       "      <td>11.856208</td>\n",
       "      <td>3.243431</td>\n",
       "      <td>1.655822</td>\n",
       "      <td>2.354670</td>\n",
       "      <td>18.715644</td>\n",
       "      <td>76.097122</td>\n",
       "      <td>2.086276</td>\n",
       "      <td>0.462559</td>\n",
       "      <td>0.370934</td>\n",
       "      <td>0.192068</td>\n",
       "      <td>1.515936</td>\n",
       "      <td>1.329916</td>\n",
       "    </tr>\n",
       "    <tr>\n",
       "      <th>2</th>\n",
       "      <td>0.891037</td>\n",
       "      <td>0.630058</td>\n",
       "      <td>0.970159</td>\n",
       "      <td>1.144056</td>\n",
       "      <td>0.808970</td>\n",
       "      <td>1.257797</td>\n",
       "      <td>4.180000</td>\n",
       "      <td>4.381482</td>\n",
       "      <td>6.480253</td>\n",
       "      <td>2.436377</td>\n",
       "      <td>0.968731</td>\n",
       "      <td>1.941366</td>\n",
       "      <td>13.480287</td>\n",
       "      <td>23.284977</td>\n",
       "      <td>0.970886</td>\n",
       "      <td>0.435180</td>\n",
       "      <td>0.271799</td>\n",
       "      <td>0.353744</td>\n",
       "      <td>1.479911</td>\n",
       "      <td>1.405143</td>\n",
       "    </tr>\n",
       "    <tr>\n",
       "      <th>3</th>\n",
       "      <td>0.890627</td>\n",
       "      <td>0.629768</td>\n",
       "      <td>1.572982</td>\n",
       "      <td>1.128650</td>\n",
       "      <td>0.798076</td>\n",
       "      <td>1.924535</td>\n",
       "      <td>2.947149</td>\n",
       "      <td>2.979330</td>\n",
       "      <td>10.317321</td>\n",
       "      <td>2.981518</td>\n",
       "      <td>0.831933</td>\n",
       "      <td>2.663949</td>\n",
       "      <td>12.959815</td>\n",
       "      <td>46.099084</td>\n",
       "      <td>1.307440</td>\n",
       "      <td>0.532797</td>\n",
       "      <td>0.233524</td>\n",
       "      <td>0.299383</td>\n",
       "      <td>1.546645</td>\n",
       "      <td>1.369799</td>\n",
       "    </tr>\n",
       "    <tr>\n",
       "      <th>4</th>\n",
       "      <td>0.738904</td>\n",
       "      <td>0.522484</td>\n",
       "      <td>1.659343</td>\n",
       "      <td>0.878929</td>\n",
       "      <td>0.621497</td>\n",
       "      <td>2.057353</td>\n",
       "      <td>2.221743</td>\n",
       "      <td>3.050034</td>\n",
       "      <td>9.674893</td>\n",
       "      <td>3.055984</td>\n",
       "      <td>1.277285</td>\n",
       "      <td>2.492197</td>\n",
       "      <td>7.276084</td>\n",
       "      <td>43.314281</td>\n",
       "      <td>1.246899</td>\n",
       "      <td>0.658239</td>\n",
       "      <td>0.432155</td>\n",
       "      <td>0.265504</td>\n",
       "      <td>1.651958</td>\n",
       "      <td>1.383720</td>\n",
       "    </tr>\n",
       "    <tr>\n",
       "      <th>2</th>\n",
       "      <th>1</th>\n",
       "      <td>0.718177</td>\n",
       "      <td>0.507828</td>\n",
       "      <td>2.722405</td>\n",
       "      <td>0.850423</td>\n",
       "      <td>0.601340</td>\n",
       "      <td>3.130240</td>\n",
       "      <td>2.185186</td>\n",
       "      <td>2.828736</td>\n",
       "      <td>11.764030</td>\n",
       "      <td>2.790082</td>\n",
       "      <td>1.274072</td>\n",
       "      <td>2.146265</td>\n",
       "      <td>6.764714</td>\n",
       "      <td>97.228329</td>\n",
       "      <td>1.925053</td>\n",
       "      <td>0.618309</td>\n",
       "      <td>0.443509</td>\n",
       "      <td>0.139366</td>\n",
       "      <td>1.632587</td>\n",
       "      <td>1.269268</td>\n",
       "    </tr>\n",
       "  </tbody>\n",
       "</table>\n",
       "</div>"
      ],
      "text/plain": [
       "                                    Mean distance  Mean distance-ML  \\\n",
       "device subject trial balance board                                    \n",
       "BB     1       1     1                   1.115983          0.789119   \n",
       "                     2                   0.891037          0.630058   \n",
       "                     3                   0.890627          0.629768   \n",
       "                     4                   0.738904          0.522484   \n",
       "               2     1                   0.718177          0.507828   \n",
       "\n",
       "                                    Mean distance-AP  Rms distance  \\\n",
       "device subject trial balance board                                   \n",
       "BB     1       1     1                      2.167205      1.376225   \n",
       "                     2                      0.970159      1.144056   \n",
       "                     3                      1.572982      1.128650   \n",
       "                     4                      1.659343      0.878929   \n",
       "               2     1                      2.722405      0.850423   \n",
       "\n",
       "                                    Rms distance-ML  Rms distance-AP  \\\n",
       "device subject trial balance board                                     \n",
       "BB     1       1     1                     0.973138         2.539252   \n",
       "                     2                     0.808970         1.257797   \n",
       "                     3                     0.798076         1.924535   \n",
       "                     4                     0.621497         2.057353   \n",
       "               2     1                     0.601340         3.130240   \n",
       "\n",
       "                                       Range  Range-ML   Range-AP  \\\n",
       "device subject trial balance board                                  \n",
       "BB     1       1     1              3.176887  4.308547  11.856208   \n",
       "                     2              4.180000  4.381482   6.480253   \n",
       "                     3              2.947149  2.979330  10.317321   \n",
       "                     4              2.221743  3.050034   9.674893   \n",
       "               2     1              2.185186  2.828736  11.764030   \n",
       "\n",
       "                                    Mean velocity  Mean velocity-ML  \\\n",
       "device subject trial balance board                                    \n",
       "BB     1       1     1                   3.243431          1.655822   \n",
       "                     2                   2.436377          0.968731   \n",
       "                     3                   2.981518          0.831933   \n",
       "                     4                   3.055984          1.277285   \n",
       "               2     1                   2.790082          1.274072   \n",
       "\n",
       "                                    Mean velocity-AP  \\\n",
       "device subject trial balance board                     \n",
       "BB     1       1     1                      2.354670   \n",
       "                     2                      1.941366   \n",
       "                     3                      2.663949   \n",
       "                     4                      2.492197   \n",
       "               2     1                      2.146265   \n",
       "\n",
       "                                    95% confidence circle area  \\\n",
       "device subject trial balance board                               \n",
       "BB     1       1     1                               18.715644   \n",
       "                     2                               13.480287   \n",
       "                     3                               12.959815   \n",
       "                     4                                7.276084   \n",
       "               2     1                                6.764714   \n",
       "\n",
       "                                    95% confidence elipse area  Sway area  \\\n",
       "device subject trial balance board                                          \n",
       "BB     1       1     1                               76.097122   2.086276   \n",
       "                     2                               23.284977   0.970886   \n",
       "                     3                               46.099084   1.307440   \n",
       "                     4                               43.314281   1.246899   \n",
       "               2     1                               97.228329   1.925053   \n",
       "\n",
       "                                    Mean frequency  Mean frequency-ML  \\\n",
       "device subject trial balance board                                      \n",
       "BB     1       1     1                    0.462559           0.370934   \n",
       "                     2                    0.435180           0.271799   \n",
       "                     3                    0.532797           0.233524   \n",
       "                     4                    0.658239           0.432155   \n",
       "               2     1                    0.618309           0.443509   \n",
       "\n",
       "                                    Mean frequency-AP  Fractal dimension-CC  \\\n",
       "device subject trial balance board                                            \n",
       "BB     1       1     1                       0.192068              1.515936   \n",
       "                     2                       0.353744              1.479911   \n",
       "                     3                       0.299383              1.546645   \n",
       "                     4                       0.265504              1.651958   \n",
       "               2     1                       0.139366              1.632587   \n",
       "\n",
       "                                    Fractal dimension-CE  \n",
       "device subject trial balance board                        \n",
       "BB     1       1     1                          1.329916  \n",
       "                     2                          1.405143  \n",
       "                     3                          1.369799  \n",
       "                     4                          1.383720  \n",
       "               2     1                          1.269268  "
      ]
     },
     "execution_count": 16,
     "metadata": {},
     "output_type": "execute_result"
    }
   ],
   "source": [
    "wbb_time.head()"
   ]
  },
  {
   "cell_type": "code",
   "execution_count": 17,
   "metadata": {
    "ExecuteTime": {
     "end_time": "2019-02-27T23:05:32.065361Z",
     "start_time": "2019-02-27T23:05:32.033834Z"
    }
   },
   "outputs": [
    {
     "data": {
      "text/html": [
       "<div>\n",
       "<style scoped>\n",
       "    .dataframe tbody tr th:only-of-type {\n",
       "        vertical-align: middle;\n",
       "    }\n",
       "\n",
       "    .dataframe tbody tr th {\n",
       "        vertical-align: top;\n",
       "    }\n",
       "\n",
       "    .dataframe thead th {\n",
       "        text-align: right;\n",
       "    }\n",
       "</style>\n",
       "<table border=\"1\" class=\"dataframe\">\n",
       "  <thead>\n",
       "    <tr style=\"text-align: right;\">\n",
       "      <th></th>\n",
       "      <th></th>\n",
       "      <th></th>\n",
       "      <th></th>\n",
       "      <th>Total power-RD</th>\n",
       "      <th>Total power-ML</th>\n",
       "      <th>Total power-AP</th>\n",
       "      <th>Peak frequency-RD</th>\n",
       "      <th>Peak frequency-ML</th>\n",
       "      <th>Peak frequency-AP</th>\n",
       "      <th>50% power frequency-RD</th>\n",
       "      <th>50% power frequency-ML</th>\n",
       "      <th>50% power frequency-AP</th>\n",
       "      <th>80% power frequency-RD</th>\n",
       "      <th>80% power frequency-ML</th>\n",
       "      <th>80% power frequency-AP</th>\n",
       "      <th>Centroidal frequency-RD</th>\n",
       "      <th>Centroidal frequency-ML</th>\n",
       "      <th>Centroidal frequency-AP</th>\n",
       "      <th>Frequency dispersion-RD</th>\n",
       "      <th>Frequency dispersion-ML</th>\n",
       "      <th>Frequency dispersion-AP</th>\n",
       "    </tr>\n",
       "    <tr>\n",
       "      <th>device</th>\n",
       "      <th>subject</th>\n",
       "      <th>trial</th>\n",
       "      <th>balance board</th>\n",
       "      <th></th>\n",
       "      <th></th>\n",
       "      <th></th>\n",
       "      <th></th>\n",
       "      <th></th>\n",
       "      <th></th>\n",
       "      <th></th>\n",
       "      <th></th>\n",
       "      <th></th>\n",
       "      <th></th>\n",
       "      <th></th>\n",
       "      <th></th>\n",
       "      <th></th>\n",
       "      <th></th>\n",
       "      <th></th>\n",
       "      <th></th>\n",
       "      <th></th>\n",
       "      <th></th>\n",
       "    </tr>\n",
       "  </thead>\n",
       "  <tbody>\n",
       "    <tr>\n",
       "      <th rowspan=\"5\" valign=\"top\">BB</th>\n",
       "      <th rowspan=\"5\" valign=\"top\">1</th>\n",
       "      <th rowspan=\"4\" valign=\"top\">1</th>\n",
       "      <th>1</th>\n",
       "      <td>0.468568</td>\n",
       "      <td>2.594537</td>\n",
       "      <td>0.503444</td>\n",
       "      <td>0.15</td>\n",
       "      <td>0.20</td>\n",
       "      <td>0.15</td>\n",
       "      <td>0.45</td>\n",
       "      <td>0.2</td>\n",
       "      <td>0.3</td>\n",
       "      <td>0.80</td>\n",
       "      <td>0.35</td>\n",
       "      <td>0.65</td>\n",
       "      <td>0.140794</td>\n",
       "      <td>0.066384</td>\n",
       "      <td>0.101585</td>\n",
       "      <td>0.596303</td>\n",
       "      <td>0.532561</td>\n",
       "      <td>0.570974</td>\n",
       "    </tr>\n",
       "    <tr>\n",
       "      <th>2</th>\n",
       "      <td>0.383964</td>\n",
       "      <td>1.009735</td>\n",
       "      <td>0.361740</td>\n",
       "      <td>0.30</td>\n",
       "      <td>0.20</td>\n",
       "      <td>0.15</td>\n",
       "      <td>0.35</td>\n",
       "      <td>0.3</td>\n",
       "      <td>0.3</td>\n",
       "      <td>0.60</td>\n",
       "      <td>0.45</td>\n",
       "      <td>0.55</td>\n",
       "      <td>0.104613</td>\n",
       "      <td>0.084853</td>\n",
       "      <td>0.083353</td>\n",
       "      <td>0.540763</td>\n",
       "      <td>0.521972</td>\n",
       "      <td>0.533275</td>\n",
       "    </tr>\n",
       "    <tr>\n",
       "      <th>3</th>\n",
       "      <td>0.262708</td>\n",
       "      <td>2.236597</td>\n",
       "      <td>0.278189</td>\n",
       "      <td>0.20</td>\n",
       "      <td>0.15</td>\n",
       "      <td>0.15</td>\n",
       "      <td>0.25</td>\n",
       "      <td>0.3</td>\n",
       "      <td>0.2</td>\n",
       "      <td>0.55</td>\n",
       "      <td>0.50</td>\n",
       "      <td>0.45</td>\n",
       "      <td>0.099497</td>\n",
       "      <td>0.085841</td>\n",
       "      <td>0.077175</td>\n",
       "      <td>0.638848</td>\n",
       "      <td>0.541302</td>\n",
       "      <td>0.583545</td>\n",
       "    </tr>\n",
       "    <tr>\n",
       "      <th>4</th>\n",
       "      <td>0.178684</td>\n",
       "      <td>2.491350</td>\n",
       "      <td>0.228074</td>\n",
       "      <td>0.25</td>\n",
       "      <td>0.15</td>\n",
       "      <td>0.15</td>\n",
       "      <td>0.50</td>\n",
       "      <td>0.3</td>\n",
       "      <td>0.4</td>\n",
       "      <td>0.95</td>\n",
       "      <td>0.50</td>\n",
       "      <td>0.65</td>\n",
       "      <td>0.165176</td>\n",
       "      <td>0.082463</td>\n",
       "      <td>0.110438</td>\n",
       "      <td>0.612786</td>\n",
       "      <td>0.525279</td>\n",
       "      <td>0.566796</td>\n",
       "    </tr>\n",
       "    <tr>\n",
       "      <th>2</th>\n",
       "      <th>1</th>\n",
       "      <td>0.181784</td>\n",
       "      <td>3.879883</td>\n",
       "      <td>0.210589</td>\n",
       "      <td>0.50</td>\n",
       "      <td>0.15</td>\n",
       "      <td>0.15</td>\n",
       "      <td>0.60</td>\n",
       "      <td>0.2</td>\n",
       "      <td>0.4</td>\n",
       "      <td>1.05</td>\n",
       "      <td>0.35</td>\n",
       "      <td>0.75</td>\n",
       "      <td>0.170065</td>\n",
       "      <td>0.061899</td>\n",
       "      <td>0.113616</td>\n",
       "      <td>0.555239</td>\n",
       "      <td>0.506627</td>\n",
       "      <td>0.566146</td>\n",
       "    </tr>\n",
       "  </tbody>\n",
       "</table>\n",
       "</div>"
      ],
      "text/plain": [
       "                                    Total power-RD  Total power-ML  \\\n",
       "device subject trial balance board                                   \n",
       "BB     1       1     1                    0.468568        2.594537   \n",
       "                     2                    0.383964        1.009735   \n",
       "                     3                    0.262708        2.236597   \n",
       "                     4                    0.178684        2.491350   \n",
       "               2     1                    0.181784        3.879883   \n",
       "\n",
       "                                    Total power-AP  Peak frequency-RD  \\\n",
       "device subject trial balance board                                      \n",
       "BB     1       1     1                    0.503444               0.15   \n",
       "                     2                    0.361740               0.30   \n",
       "                     3                    0.278189               0.20   \n",
       "                     4                    0.228074               0.25   \n",
       "               2     1                    0.210589               0.50   \n",
       "\n",
       "                                    Peak frequency-ML  Peak frequency-AP  \\\n",
       "device subject trial balance board                                         \n",
       "BB     1       1     1                           0.20               0.15   \n",
       "                     2                           0.20               0.15   \n",
       "                     3                           0.15               0.15   \n",
       "                     4                           0.15               0.15   \n",
       "               2     1                           0.15               0.15   \n",
       "\n",
       "                                    50% power frequency-RD  \\\n",
       "device subject trial balance board                           \n",
       "BB     1       1     1                                0.45   \n",
       "                     2                                0.35   \n",
       "                     3                                0.25   \n",
       "                     4                                0.50   \n",
       "               2     1                                0.60   \n",
       "\n",
       "                                    50% power frequency-ML  \\\n",
       "device subject trial balance board                           \n",
       "BB     1       1     1                                 0.2   \n",
       "                     2                                 0.3   \n",
       "                     3                                 0.3   \n",
       "                     4                                 0.3   \n",
       "               2     1                                 0.2   \n",
       "\n",
       "                                    50% power frequency-AP  \\\n",
       "device subject trial balance board                           \n",
       "BB     1       1     1                                 0.3   \n",
       "                     2                                 0.3   \n",
       "                     3                                 0.2   \n",
       "                     4                                 0.4   \n",
       "               2     1                                 0.4   \n",
       "\n",
       "                                    80% power frequency-RD  \\\n",
       "device subject trial balance board                           \n",
       "BB     1       1     1                                0.80   \n",
       "                     2                                0.60   \n",
       "                     3                                0.55   \n",
       "                     4                                0.95   \n",
       "               2     1                                1.05   \n",
       "\n",
       "                                    80% power frequency-ML  \\\n",
       "device subject trial balance board                           \n",
       "BB     1       1     1                                0.35   \n",
       "                     2                                0.45   \n",
       "                     3                                0.50   \n",
       "                     4                                0.50   \n",
       "               2     1                                0.35   \n",
       "\n",
       "                                    80% power frequency-AP  \\\n",
       "device subject trial balance board                           \n",
       "BB     1       1     1                                0.65   \n",
       "                     2                                0.55   \n",
       "                     3                                0.45   \n",
       "                     4                                0.65   \n",
       "               2     1                                0.75   \n",
       "\n",
       "                                    Centroidal frequency-RD  \\\n",
       "device subject trial balance board                            \n",
       "BB     1       1     1                             0.140794   \n",
       "                     2                             0.104613   \n",
       "                     3                             0.099497   \n",
       "                     4                             0.165176   \n",
       "               2     1                             0.170065   \n",
       "\n",
       "                                    Centroidal frequency-ML  \\\n",
       "device subject trial balance board                            \n",
       "BB     1       1     1                             0.066384   \n",
       "                     2                             0.084853   \n",
       "                     3                             0.085841   \n",
       "                     4                             0.082463   \n",
       "               2     1                             0.061899   \n",
       "\n",
       "                                    Centroidal frequency-AP  \\\n",
       "device subject trial balance board                            \n",
       "BB     1       1     1                             0.101585   \n",
       "                     2                             0.083353   \n",
       "                     3                             0.077175   \n",
       "                     4                             0.110438   \n",
       "               2     1                             0.113616   \n",
       "\n",
       "                                    Frequency dispersion-RD  \\\n",
       "device subject trial balance board                            \n",
       "BB     1       1     1                             0.596303   \n",
       "                     2                             0.540763   \n",
       "                     3                             0.638848   \n",
       "                     4                             0.612786   \n",
       "               2     1                             0.555239   \n",
       "\n",
       "                                    Frequency dispersion-ML  \\\n",
       "device subject trial balance board                            \n",
       "BB     1       1     1                             0.532561   \n",
       "                     2                             0.521972   \n",
       "                     3                             0.541302   \n",
       "                     4                             0.525279   \n",
       "               2     1                             0.506627   \n",
       "\n",
       "                                    Frequency dispersion-AP  \n",
       "device subject trial balance board                           \n",
       "BB     1       1     1                             0.570974  \n",
       "                     2                             0.533275  \n",
       "                     3                             0.583545  \n",
       "                     4                             0.566796  \n",
       "               2     1                             0.566146  "
      ]
     },
     "execution_count": 17,
     "metadata": {},
     "output_type": "execute_result"
    }
   ],
   "source": [
    "wbb_freq.head()"
   ]
  },
  {
   "cell_type": "markdown",
   "metadata": {},
   "source": [
    "#### FP  features results merging"
   ]
  },
  {
   "cell_type": "code",
   "execution_count": 18,
   "metadata": {
    "ExecuteTime": {
     "end_time": "2019-02-27T23:05:34.056026Z",
     "start_time": "2019-02-27T23:05:33.590397Z"
    }
   },
   "outputs": [],
   "source": [
    "fp_time,fp_freq = create_and_merge_dataframes(fp_files)"
   ]
  },
  {
   "cell_type": "code",
   "execution_count": 19,
   "metadata": {
    "ExecuteTime": {
     "end_time": "2019-02-27T23:05:35.158427Z",
     "start_time": "2019-02-27T23:05:35.121607Z"
    }
   },
   "outputs": [
    {
     "data": {
      "text/html": [
       "<div>\n",
       "<style scoped>\n",
       "    .dataframe tbody tr th:only-of-type {\n",
       "        vertical-align: middle;\n",
       "    }\n",
       "\n",
       "    .dataframe tbody tr th {\n",
       "        vertical-align: top;\n",
       "    }\n",
       "\n",
       "    .dataframe thead th {\n",
       "        text-align: right;\n",
       "    }\n",
       "</style>\n",
       "<table border=\"1\" class=\"dataframe\">\n",
       "  <thead>\n",
       "    <tr style=\"text-align: right;\">\n",
       "      <th></th>\n",
       "      <th></th>\n",
       "      <th></th>\n",
       "      <th></th>\n",
       "      <th>Mean distance</th>\n",
       "      <th>Mean distance-ML</th>\n",
       "      <th>Mean distance-AP</th>\n",
       "      <th>Rms distance</th>\n",
       "      <th>Rms distance-ML</th>\n",
       "      <th>Rms distance-AP</th>\n",
       "      <th>Range</th>\n",
       "      <th>Range-ML</th>\n",
       "      <th>Range-AP</th>\n",
       "      <th>Mean velocity</th>\n",
       "      <th>Mean velocity-ML</th>\n",
       "      <th>Mean velocity-AP</th>\n",
       "      <th>95% confidence circle area</th>\n",
       "      <th>95% confidence elipse area</th>\n",
       "      <th>Sway area</th>\n",
       "      <th>Mean frequency</th>\n",
       "      <th>Mean frequency-ML</th>\n",
       "      <th>Mean frequency-AP</th>\n",
       "      <th>Fractal dimension-CC</th>\n",
       "      <th>Fractal dimension-CE</th>\n",
       "    </tr>\n",
       "    <tr>\n",
       "      <th>device</th>\n",
       "      <th>subject</th>\n",
       "      <th>trial</th>\n",
       "      <th>balance board</th>\n",
       "      <th></th>\n",
       "      <th></th>\n",
       "      <th></th>\n",
       "      <th></th>\n",
       "      <th></th>\n",
       "      <th></th>\n",
       "      <th></th>\n",
       "      <th></th>\n",
       "      <th></th>\n",
       "      <th></th>\n",
       "      <th></th>\n",
       "      <th></th>\n",
       "      <th></th>\n",
       "      <th></th>\n",
       "      <th></th>\n",
       "      <th></th>\n",
       "      <th></th>\n",
       "      <th></th>\n",
       "      <th></th>\n",
       "      <th></th>\n",
       "    </tr>\n",
       "  </thead>\n",
       "  <tbody>\n",
       "    <tr>\n",
       "      <th rowspan=\"5\" valign=\"top\">FP</th>\n",
       "      <th rowspan=\"5\" valign=\"top\">1</th>\n",
       "      <th rowspan=\"4\" valign=\"top\">1</th>\n",
       "      <th>1</th>\n",
       "      <td>1.903751</td>\n",
       "      <td>1.346155</td>\n",
       "      <td>3.286983</td>\n",
       "      <td>2.396578</td>\n",
       "      <td>1.694636</td>\n",
       "      <td>3.904998</td>\n",
       "      <td>6.339889</td>\n",
       "      <td>8.450483</td>\n",
       "      <td>19.412340</td>\n",
       "      <td>9.080896</td>\n",
       "      <td>5.428071</td>\n",
       "      <td>6.125741</td>\n",
       "      <td>58.048119</td>\n",
       "      <td>201.369887</td>\n",
       "      <td>10.380762</td>\n",
       "      <td>0.759169</td>\n",
       "      <td>0.712813</td>\n",
       "      <td>0.329447</td>\n",
       "      <td>1.670375</td>\n",
       "      <td>1.469526</td>\n",
       "    </tr>\n",
       "    <tr>\n",
       "      <th>2</th>\n",
       "      <td>1.566635</td>\n",
       "      <td>1.107778</td>\n",
       "      <td>1.720915</td>\n",
       "      <td>2.071119</td>\n",
       "      <td>1.464503</td>\n",
       "      <td>2.263366</td>\n",
       "      <td>9.163480</td>\n",
       "      <td>9.152372</td>\n",
       "      <td>14.342556</td>\n",
       "      <td>7.948620</td>\n",
       "      <td>3.637917</td>\n",
       "      <td>6.242771</td>\n",
       "      <td>45.247759</td>\n",
       "      <td>85.715690</td>\n",
       "      <td>5.658375</td>\n",
       "      <td>0.807503</td>\n",
       "      <td>0.580531</td>\n",
       "      <td>0.641273</td>\n",
       "      <td>1.667219</td>\n",
       "      <td>1.558050</td>\n",
       "    </tr>\n",
       "    <tr>\n",
       "      <th>3</th>\n",
       "      <td>1.671081</td>\n",
       "      <td>1.181633</td>\n",
       "      <td>2.734661</td>\n",
       "      <td>2.097962</td>\n",
       "      <td>1.483483</td>\n",
       "      <td>3.422573</td>\n",
       "      <td>5.488164</td>\n",
       "      <td>6.811871</td>\n",
       "      <td>18.441132</td>\n",
       "      <td>8.976417</td>\n",
       "      <td>3.698250</td>\n",
       "      <td>7.433726</td>\n",
       "      <td>44.359345</td>\n",
       "      <td>158.116286</td>\n",
       "      <td>7.797539</td>\n",
       "      <td>0.854920</td>\n",
       "      <td>0.553272</td>\n",
       "      <td>0.480538</td>\n",
       "      <td>1.716743</td>\n",
       "      <td>1.501260</td>\n",
       "    </tr>\n",
       "    <tr>\n",
       "      <th>4</th>\n",
       "      <td>1.465760</td>\n",
       "      <td>1.036449</td>\n",
       "      <td>2.603083</td>\n",
       "      <td>1.790222</td>\n",
       "      <td>1.265878</td>\n",
       "      <td>3.263393</td>\n",
       "      <td>4.919037</td>\n",
       "      <td>6.833894</td>\n",
       "      <td>15.636206</td>\n",
       "      <td>9.733595</td>\n",
       "      <td>5.243535</td>\n",
       "      <td>7.137957</td>\n",
       "      <td>31.302165</td>\n",
       "      <td>128.700652</td>\n",
       "      <td>8.357825</td>\n",
       "      <td>1.056892</td>\n",
       "      <td>0.894337</td>\n",
       "      <td>0.484742</td>\n",
       "      <td>1.821792</td>\n",
       "      <td>1.557845</td>\n",
       "    </tr>\n",
       "    <tr>\n",
       "      <th>2</th>\n",
       "      <th>1</th>\n",
       "      <td>1.288969</td>\n",
       "      <td>0.911438</td>\n",
       "      <td>4.107877</td>\n",
       "      <td>1.609091</td>\n",
       "      <td>1.137799</td>\n",
       "      <td>4.729762</td>\n",
       "      <td>4.883759</td>\n",
       "      <td>5.903164</td>\n",
       "      <td>18.589986</td>\n",
       "      <td>8.277838</td>\n",
       "      <td>4.930607</td>\n",
       "      <td>5.663471</td>\n",
       "      <td>25.938627</td>\n",
       "      <td>239.967937</td>\n",
       "      <td>11.033390</td>\n",
       "      <td>1.022103</td>\n",
       "      <td>0.956309</td>\n",
       "      <td>0.243720</td>\n",
       "      <td>1.792565</td>\n",
       "      <td>1.420033</td>\n",
       "    </tr>\n",
       "  </tbody>\n",
       "</table>\n",
       "</div>"
      ],
      "text/plain": [
       "                                    Mean distance  Mean distance-ML  \\\n",
       "device subject trial balance board                                    \n",
       "FP     1       1     1                   1.903751          1.346155   \n",
       "                     2                   1.566635          1.107778   \n",
       "                     3                   1.671081          1.181633   \n",
       "                     4                   1.465760          1.036449   \n",
       "               2     1                   1.288969          0.911438   \n",
       "\n",
       "                                    Mean distance-AP  Rms distance  \\\n",
       "device subject trial balance board                                   \n",
       "FP     1       1     1                      3.286983      2.396578   \n",
       "                     2                      1.720915      2.071119   \n",
       "                     3                      2.734661      2.097962   \n",
       "                     4                      2.603083      1.790222   \n",
       "               2     1                      4.107877      1.609091   \n",
       "\n",
       "                                    Rms distance-ML  Rms distance-AP  \\\n",
       "device subject trial balance board                                     \n",
       "FP     1       1     1                     1.694636         3.904998   \n",
       "                     2                     1.464503         2.263366   \n",
       "                     3                     1.483483         3.422573   \n",
       "                     4                     1.265878         3.263393   \n",
       "               2     1                     1.137799         4.729762   \n",
       "\n",
       "                                       Range  Range-ML   Range-AP  \\\n",
       "device subject trial balance board                                  \n",
       "FP     1       1     1              6.339889  8.450483  19.412340   \n",
       "                     2              9.163480  9.152372  14.342556   \n",
       "                     3              5.488164  6.811871  18.441132   \n",
       "                     4              4.919037  6.833894  15.636206   \n",
       "               2     1              4.883759  5.903164  18.589986   \n",
       "\n",
       "                                    Mean velocity  Mean velocity-ML  \\\n",
       "device subject trial balance board                                    \n",
       "FP     1       1     1                   9.080896          5.428071   \n",
       "                     2                   7.948620          3.637917   \n",
       "                     3                   8.976417          3.698250   \n",
       "                     4                   9.733595          5.243535   \n",
       "               2     1                   8.277838          4.930607   \n",
       "\n",
       "                                    Mean velocity-AP  \\\n",
       "device subject trial balance board                     \n",
       "FP     1       1     1                      6.125741   \n",
       "                     2                      6.242771   \n",
       "                     3                      7.433726   \n",
       "                     4                      7.137957   \n",
       "               2     1                      5.663471   \n",
       "\n",
       "                                    95% confidence circle area  \\\n",
       "device subject trial balance board                               \n",
       "FP     1       1     1                               58.048119   \n",
       "                     2                               45.247759   \n",
       "                     3                               44.359345   \n",
       "                     4                               31.302165   \n",
       "               2     1                               25.938627   \n",
       "\n",
       "                                    95% confidence elipse area  Sway area  \\\n",
       "device subject trial balance board                                          \n",
       "FP     1       1     1                              201.369887  10.380762   \n",
       "                     2                               85.715690   5.658375   \n",
       "                     3                              158.116286   7.797539   \n",
       "                     4                              128.700652   8.357825   \n",
       "               2     1                              239.967937  11.033390   \n",
       "\n",
       "                                    Mean frequency  Mean frequency-ML  \\\n",
       "device subject trial balance board                                      \n",
       "FP     1       1     1                    0.759169           0.712813   \n",
       "                     2                    0.807503           0.580531   \n",
       "                     3                    0.854920           0.553272   \n",
       "                     4                    1.056892           0.894337   \n",
       "               2     1                    1.022103           0.956309   \n",
       "\n",
       "                                    Mean frequency-AP  Fractal dimension-CC  \\\n",
       "device subject trial balance board                                            \n",
       "FP     1       1     1                       0.329447              1.670375   \n",
       "                     2                       0.641273              1.667219   \n",
       "                     3                       0.480538              1.716743   \n",
       "                     4                       0.484742              1.821792   \n",
       "               2     1                       0.243720              1.792565   \n",
       "\n",
       "                                    Fractal dimension-CE  \n",
       "device subject trial balance board                        \n",
       "FP     1       1     1                          1.469526  \n",
       "                     2                          1.558050  \n",
       "                     3                          1.501260  \n",
       "                     4                          1.557845  \n",
       "               2     1                          1.420033  "
      ]
     },
     "execution_count": 19,
     "metadata": {},
     "output_type": "execute_result"
    }
   ],
   "source": [
    "fp_time.head()"
   ]
  },
  {
   "cell_type": "code",
   "execution_count": 20,
   "metadata": {
    "ExecuteTime": {
     "end_time": "2019-02-27T23:05:36.225343Z",
     "start_time": "2019-02-27T23:05:36.191243Z"
    }
   },
   "outputs": [
    {
     "data": {
      "text/html": [
       "<div>\n",
       "<style scoped>\n",
       "    .dataframe tbody tr th:only-of-type {\n",
       "        vertical-align: middle;\n",
       "    }\n",
       "\n",
       "    .dataframe tbody tr th {\n",
       "        vertical-align: top;\n",
       "    }\n",
       "\n",
       "    .dataframe thead th {\n",
       "        text-align: right;\n",
       "    }\n",
       "</style>\n",
       "<table border=\"1\" class=\"dataframe\">\n",
       "  <thead>\n",
       "    <tr style=\"text-align: right;\">\n",
       "      <th></th>\n",
       "      <th></th>\n",
       "      <th></th>\n",
       "      <th></th>\n",
       "      <th>Total power-RD</th>\n",
       "      <th>Total power-ML</th>\n",
       "      <th>Total power-AP</th>\n",
       "      <th>Peak frequency-RD</th>\n",
       "      <th>Peak frequency-ML</th>\n",
       "      <th>Peak frequency-AP</th>\n",
       "      <th>50% power frequency-RD</th>\n",
       "      <th>50% power frequency-ML</th>\n",
       "      <th>50% power frequency-AP</th>\n",
       "      <th>80% power frequency-RD</th>\n",
       "      <th>80% power frequency-ML</th>\n",
       "      <th>80% power frequency-AP</th>\n",
       "      <th>Centroidal frequency-RD</th>\n",
       "      <th>Centroidal frequency-ML</th>\n",
       "      <th>Centroidal frequency-AP</th>\n",
       "      <th>Frequency dispersion-RD</th>\n",
       "      <th>Frequency dispersion-ML</th>\n",
       "      <th>Frequency dispersion-AP</th>\n",
       "    </tr>\n",
       "    <tr>\n",
       "      <th>device</th>\n",
       "      <th>subject</th>\n",
       "      <th>trial</th>\n",
       "      <th>balance board</th>\n",
       "      <th></th>\n",
       "      <th></th>\n",
       "      <th></th>\n",
       "      <th></th>\n",
       "      <th></th>\n",
       "      <th></th>\n",
       "      <th></th>\n",
       "      <th></th>\n",
       "      <th></th>\n",
       "      <th></th>\n",
       "      <th></th>\n",
       "      <th></th>\n",
       "      <th></th>\n",
       "      <th></th>\n",
       "      <th></th>\n",
       "      <th></th>\n",
       "      <th></th>\n",
       "      <th></th>\n",
       "    </tr>\n",
       "  </thead>\n",
       "  <tbody>\n",
       "    <tr>\n",
       "      <th rowspan=\"5\" valign=\"top\">FP</th>\n",
       "      <th rowspan=\"5\" valign=\"top\">1</th>\n",
       "      <th rowspan=\"4\" valign=\"top\">1</th>\n",
       "      <th>1</th>\n",
       "      <td>1.738435</td>\n",
       "      <td>6.488565</td>\n",
       "      <td>1.867769</td>\n",
       "      <td>0.15</td>\n",
       "      <td>0.20</td>\n",
       "      <td>0.20</td>\n",
       "      <td>0.75</td>\n",
       "      <td>0.25</td>\n",
       "      <td>0.55</td>\n",
       "      <td>1.25</td>\n",
       "      <td>0.45</td>\n",
       "      <td>0.95</td>\n",
       "      <td>0.218003</td>\n",
       "      <td>0.099476</td>\n",
       "      <td>0.161879</td>\n",
       "      <td>0.605805</td>\n",
       "      <td>0.701714</td>\n",
       "      <td>0.616826</td>\n",
       "    </tr>\n",
       "    <tr>\n",
       "      <th>2</th>\n",
       "      <td>1.455354</td>\n",
       "      <td>3.440474</td>\n",
       "      <td>1.200547</td>\n",
       "      <td>0.15</td>\n",
       "      <td>0.25</td>\n",
       "      <td>0.15</td>\n",
       "      <td>0.45</td>\n",
       "      <td>0.40</td>\n",
       "      <td>0.30</td>\n",
       "      <td>0.95</td>\n",
       "      <td>1.00</td>\n",
       "      <td>0.70</td>\n",
       "      <td>0.163570</td>\n",
       "      <td>0.153919</td>\n",
       "      <td>0.125572</td>\n",
       "      <td>0.641842</td>\n",
       "      <td>0.638190</td>\n",
       "      <td>0.683618</td>\n",
       "    </tr>\n",
       "    <tr>\n",
       "      <th>3</th>\n",
       "      <td>1.114694</td>\n",
       "      <td>7.399788</td>\n",
       "      <td>1.185009</td>\n",
       "      <td>0.20</td>\n",
       "      <td>0.15</td>\n",
       "      <td>0.15</td>\n",
       "      <td>0.55</td>\n",
       "      <td>0.30</td>\n",
       "      <td>0.35</td>\n",
       "      <td>1.00</td>\n",
       "      <td>0.60</td>\n",
       "      <td>0.80</td>\n",
       "      <td>0.182438</td>\n",
       "      <td>0.110618</td>\n",
       "      <td>0.136715</td>\n",
       "      <td>0.661051</td>\n",
       "      <td>0.642631</td>\n",
       "      <td>0.686587</td>\n",
       "    </tr>\n",
       "    <tr>\n",
       "      <th>4</th>\n",
       "      <td>0.973785</td>\n",
       "      <td>6.696644</td>\n",
       "      <td>1.156905</td>\n",
       "      <td>0.40</td>\n",
       "      <td>0.15</td>\n",
       "      <td>0.15</td>\n",
       "      <td>0.95</td>\n",
       "      <td>0.35</td>\n",
       "      <td>0.60</td>\n",
       "      <td>1.70</td>\n",
       "      <td>0.55</td>\n",
       "      <td>1.15</td>\n",
       "      <td>0.279016</td>\n",
       "      <td>0.119469</td>\n",
       "      <td>0.195827</td>\n",
       "      <td>0.589783</td>\n",
       "      <td>0.668775</td>\n",
       "      <td>0.624109</td>\n",
       "    </tr>\n",
       "    <tr>\n",
       "      <th>2</th>\n",
       "      <th>1</th>\n",
       "      <td>0.866595</td>\n",
       "      <td>9.501801</td>\n",
       "      <td>0.948790</td>\n",
       "      <td>0.65</td>\n",
       "      <td>0.20</td>\n",
       "      <td>0.15</td>\n",
       "      <td>0.85</td>\n",
       "      <td>0.20</td>\n",
       "      <td>0.65</td>\n",
       "      <td>1.65</td>\n",
       "      <td>0.45</td>\n",
       "      <td>1.10</td>\n",
       "      <td>0.268855</td>\n",
       "      <td>0.089892</td>\n",
       "      <td>0.195252</td>\n",
       "      <td>0.578548</td>\n",
       "      <td>0.661084</td>\n",
       "      <td>0.617446</td>\n",
       "    </tr>\n",
       "  </tbody>\n",
       "</table>\n",
       "</div>"
      ],
      "text/plain": [
       "                                    Total power-RD  Total power-ML  \\\n",
       "device subject trial balance board                                   \n",
       "FP     1       1     1                    1.738435        6.488565   \n",
       "                     2                    1.455354        3.440474   \n",
       "                     3                    1.114694        7.399788   \n",
       "                     4                    0.973785        6.696644   \n",
       "               2     1                    0.866595        9.501801   \n",
       "\n",
       "                                    Total power-AP  Peak frequency-RD  \\\n",
       "device subject trial balance board                                      \n",
       "FP     1       1     1                    1.867769               0.15   \n",
       "                     2                    1.200547               0.15   \n",
       "                     3                    1.185009               0.20   \n",
       "                     4                    1.156905               0.40   \n",
       "               2     1                    0.948790               0.65   \n",
       "\n",
       "                                    Peak frequency-ML  Peak frequency-AP  \\\n",
       "device subject trial balance board                                         \n",
       "FP     1       1     1                           0.20               0.20   \n",
       "                     2                           0.25               0.15   \n",
       "                     3                           0.15               0.15   \n",
       "                     4                           0.15               0.15   \n",
       "               2     1                           0.20               0.15   \n",
       "\n",
       "                                    50% power frequency-RD  \\\n",
       "device subject trial balance board                           \n",
       "FP     1       1     1                                0.75   \n",
       "                     2                                0.45   \n",
       "                     3                                0.55   \n",
       "                     4                                0.95   \n",
       "               2     1                                0.85   \n",
       "\n",
       "                                    50% power frequency-ML  \\\n",
       "device subject trial balance board                           \n",
       "FP     1       1     1                                0.25   \n",
       "                     2                                0.40   \n",
       "                     3                                0.30   \n",
       "                     4                                0.35   \n",
       "               2     1                                0.20   \n",
       "\n",
       "                                    50% power frequency-AP  \\\n",
       "device subject trial balance board                           \n",
       "FP     1       1     1                                0.55   \n",
       "                     2                                0.30   \n",
       "                     3                                0.35   \n",
       "                     4                                0.60   \n",
       "               2     1                                0.65   \n",
       "\n",
       "                                    80% power frequency-RD  \\\n",
       "device subject trial balance board                           \n",
       "FP     1       1     1                                1.25   \n",
       "                     2                                0.95   \n",
       "                     3                                1.00   \n",
       "                     4                                1.70   \n",
       "               2     1                                1.65   \n",
       "\n",
       "                                    80% power frequency-ML  \\\n",
       "device subject trial balance board                           \n",
       "FP     1       1     1                                0.45   \n",
       "                     2                                1.00   \n",
       "                     3                                0.60   \n",
       "                     4                                0.55   \n",
       "               2     1                                0.45   \n",
       "\n",
       "                                    80% power frequency-AP  \\\n",
       "device subject trial balance board                           \n",
       "FP     1       1     1                                0.95   \n",
       "                     2                                0.70   \n",
       "                     3                                0.80   \n",
       "                     4                                1.15   \n",
       "               2     1                                1.10   \n",
       "\n",
       "                                    Centroidal frequency-RD  \\\n",
       "device subject trial balance board                            \n",
       "FP     1       1     1                             0.218003   \n",
       "                     2                             0.163570   \n",
       "                     3                             0.182438   \n",
       "                     4                             0.279016   \n",
       "               2     1                             0.268855   \n",
       "\n",
       "                                    Centroidal frequency-ML  \\\n",
       "device subject trial balance board                            \n",
       "FP     1       1     1                             0.099476   \n",
       "                     2                             0.153919   \n",
       "                     3                             0.110618   \n",
       "                     4                             0.119469   \n",
       "               2     1                             0.089892   \n",
       "\n",
       "                                    Centroidal frequency-AP  \\\n",
       "device subject trial balance board                            \n",
       "FP     1       1     1                             0.161879   \n",
       "                     2                             0.125572   \n",
       "                     3                             0.136715   \n",
       "                     4                             0.195827   \n",
       "               2     1                             0.195252   \n",
       "\n",
       "                                    Frequency dispersion-RD  \\\n",
       "device subject trial balance board                            \n",
       "FP     1       1     1                             0.605805   \n",
       "                     2                             0.641842   \n",
       "                     3                             0.661051   \n",
       "                     4                             0.589783   \n",
       "               2     1                             0.578548   \n",
       "\n",
       "                                    Frequency dispersion-ML  \\\n",
       "device subject trial balance board                            \n",
       "FP     1       1     1                             0.701714   \n",
       "                     2                             0.638190   \n",
       "                     3                             0.642631   \n",
       "                     4                             0.668775   \n",
       "               2     1                             0.661084   \n",
       "\n",
       "                                    Frequency dispersion-AP  \n",
       "device subject trial balance board                           \n",
       "FP     1       1     1                             0.616826  \n",
       "                     2                             0.683618  \n",
       "                     3                             0.686587  \n",
       "                     4                             0.624109  \n",
       "               2     1                             0.617446  "
      ]
     },
     "execution_count": 20,
     "metadata": {},
     "output_type": "execute_result"
    }
   ],
   "source": [
    "fp_freq.head()"
   ]
  },
  {
   "cell_type": "markdown",
   "metadata": {},
   "source": [
    "##### OUTLIER DETECTION !!!\n",
    " "
   ]
  },
  {
   "cell_type": "code",
   "execution_count": 37,
   "metadata": {
    "ExecuteTime": {
     "end_time": "2019-02-27T23:07:35.889428Z",
     "start_time": "2019-02-27T23:07:35.859505Z"
    }
   },
   "outputs": [
    {
     "data": {
      "text/html": [
       "<div>\n",
       "<style scoped>\n",
       "    .dataframe tbody tr th:only-of-type {\n",
       "        vertical-align: middle;\n",
       "    }\n",
       "\n",
       "    .dataframe tbody tr th {\n",
       "        vertical-align: top;\n",
       "    }\n",
       "\n",
       "    .dataframe thead th {\n",
       "        text-align: right;\n",
       "    }\n",
       "</style>\n",
       "<table border=\"1\" class=\"dataframe\">\n",
       "  <thead>\n",
       "    <tr style=\"text-align: right;\">\n",
       "      <th></th>\n",
       "      <th></th>\n",
       "      <th></th>\n",
       "      <th></th>\n",
       "      <th>Mean distance</th>\n",
       "      <th>Mean distance-ML</th>\n",
       "      <th>Mean distance-AP</th>\n",
       "      <th>Rms distance</th>\n",
       "      <th>Rms distance-ML</th>\n",
       "      <th>Rms distance-AP</th>\n",
       "      <th>Range</th>\n",
       "      <th>Range-ML</th>\n",
       "      <th>Range-AP</th>\n",
       "      <th>Mean velocity</th>\n",
       "      <th>Mean velocity-ML</th>\n",
       "      <th>Mean velocity-AP</th>\n",
       "      <th>95% confidence circle area</th>\n",
       "      <th>95% confidence elipse area</th>\n",
       "      <th>Sway area</th>\n",
       "      <th>Mean frequency</th>\n",
       "      <th>Mean frequency-ML</th>\n",
       "      <th>Mean frequency-AP</th>\n",
       "      <th>Fractal dimension-CC</th>\n",
       "      <th>Fractal dimension-CE</th>\n",
       "    </tr>\n",
       "    <tr>\n",
       "      <th>device</th>\n",
       "      <th>subject</th>\n",
       "      <th>trial</th>\n",
       "      <th>balance board</th>\n",
       "      <th></th>\n",
       "      <th></th>\n",
       "      <th></th>\n",
       "      <th></th>\n",
       "      <th></th>\n",
       "      <th></th>\n",
       "      <th></th>\n",
       "      <th></th>\n",
       "      <th></th>\n",
       "      <th></th>\n",
       "      <th></th>\n",
       "      <th></th>\n",
       "      <th></th>\n",
       "      <th></th>\n",
       "      <th></th>\n",
       "      <th></th>\n",
       "      <th></th>\n",
       "      <th></th>\n",
       "      <th></th>\n",
       "      <th></th>\n",
       "    </tr>\n",
       "  </thead>\n",
       "  <tbody>\n",
       "    <tr>\n",
       "      <th>FP</th>\n",
       "      <th>3</th>\n",
       "      <th>3</th>\n",
       "      <th>1</th>\n",
       "      <td>5.328147</td>\n",
       "      <td>3.767569</td>\n",
       "      <td>6.007563</td>\n",
       "      <td>10.645446</td>\n",
       "      <td>7.527467</td>\n",
       "      <td>8.119918</td>\n",
       "      <td>60.081679</td>\n",
       "      <td>58.966713</td>\n",
       "      <td>52.041065</td>\n",
       "      <td>25.459832</td>\n",
       "      <td>11.739507</td>\n",
       "      <td>20.140294</td>\n",
       "      <td>1318.788927</td>\n",
       "      <td>1561.973145</td>\n",
       "      <td>92.1405</td>\n",
       "      <td>0.7605</td>\n",
       "      <td>0.550825</td>\n",
       "      <td>0.592642</td>\n",
       "      <td>1.495921</td>\n",
       "      <td>1.471417</td>\n",
       "    </tr>\n",
       "  </tbody>\n",
       "</table>\n",
       "</div>"
      ],
      "text/plain": [
       "                                    Mean distance  Mean distance-ML  \\\n",
       "device subject trial balance board                                    \n",
       "FP     3       3     1                   5.328147          3.767569   \n",
       "\n",
       "                                    Mean distance-AP  Rms distance  \\\n",
       "device subject trial balance board                                   \n",
       "FP     3       3     1                      6.007563     10.645446   \n",
       "\n",
       "                                    Rms distance-ML  Rms distance-AP  \\\n",
       "device subject trial balance board                                     \n",
       "FP     3       3     1                     7.527467         8.119918   \n",
       "\n",
       "                                        Range   Range-ML   Range-AP  \\\n",
       "device subject trial balance board                                    \n",
       "FP     3       3     1              60.081679  58.966713  52.041065   \n",
       "\n",
       "                                    Mean velocity  Mean velocity-ML  \\\n",
       "device subject trial balance board                                    \n",
       "FP     3       3     1                  25.459832         11.739507   \n",
       "\n",
       "                                    Mean velocity-AP  \\\n",
       "device subject trial balance board                     \n",
       "FP     3       3     1                     20.140294   \n",
       "\n",
       "                                    95% confidence circle area  \\\n",
       "device subject trial balance board                               \n",
       "FP     3       3     1                             1318.788927   \n",
       "\n",
       "                                    95% confidence elipse area  Sway area  \\\n",
       "device subject trial balance board                                          \n",
       "FP     3       3     1                             1561.973145    92.1405   \n",
       "\n",
       "                                    Mean frequency  Mean frequency-ML  \\\n",
       "device subject trial balance board                                      \n",
       "FP     3       3     1                      0.7605           0.550825   \n",
       "\n",
       "                                    Mean frequency-AP  Fractal dimension-CC  \\\n",
       "device subject trial balance board                                            \n",
       "FP     3       3     1                       0.592642              1.495921   \n",
       "\n",
       "                                    Fractal dimension-CE  \n",
       "device subject trial balance board                        \n",
       "FP     3       3     1                          1.471417  "
      ]
     },
     "execution_count": 37,
     "metadata": {},
     "output_type": "execute_result"
    }
   ],
   "source": [
    "fp_outlier_values = fp_time[fp_time[\"Mean distance\"]==fp_time[\"Mean distance\"].max()]\n",
    "fp_outlier_values"
   ]
  },
  {
   "cell_type": "code",
   "execution_count": 38,
   "metadata": {
    "ExecuteTime": {
     "end_time": "2019-02-27T23:07:37.645544Z",
     "start_time": "2019-02-27T23:07:37.637883Z"
    }
   },
   "outputs": [
    {
     "data": {
      "text/plain": [
       "[('FP', '3', '3', '1')]"
      ]
     },
     "execution_count": 38,
     "metadata": {},
     "output_type": "execute_result"
    }
   ],
   "source": [
    "fp_outlier_index = fp_outlier_values.index.tolist()\n",
    "fp_outlier_index"
   ]
  },
  {
   "cell_type": "code",
   "execution_count": 21,
   "metadata": {
    "ExecuteTime": {
     "end_time": "2019-02-27T23:05:37.315013Z",
     "start_time": "2019-02-27T23:05:37.287500Z"
    }
   },
   "outputs": [
    {
     "data": {
      "text/html": [
       "<div>\n",
       "<style scoped>\n",
       "    .dataframe tbody tr th:only-of-type {\n",
       "        vertical-align: middle;\n",
       "    }\n",
       "\n",
       "    .dataframe tbody tr th {\n",
       "        vertical-align: top;\n",
       "    }\n",
       "\n",
       "    .dataframe thead th {\n",
       "        text-align: right;\n",
       "    }\n",
       "</style>\n",
       "<table border=\"1\" class=\"dataframe\">\n",
       "  <thead>\n",
       "    <tr style=\"text-align: right;\">\n",
       "      <th></th>\n",
       "      <th></th>\n",
       "      <th></th>\n",
       "      <th></th>\n",
       "      <th>Mean distance</th>\n",
       "      <th>Mean distance-ML</th>\n",
       "      <th>Mean distance-AP</th>\n",
       "      <th>Rms distance</th>\n",
       "      <th>Rms distance-ML</th>\n",
       "      <th>Rms distance-AP</th>\n",
       "      <th>Range</th>\n",
       "      <th>Range-ML</th>\n",
       "      <th>Range-AP</th>\n",
       "      <th>Mean velocity</th>\n",
       "      <th>Mean velocity-ML</th>\n",
       "      <th>Mean velocity-AP</th>\n",
       "      <th>95% confidence circle area</th>\n",
       "      <th>95% confidence elipse area</th>\n",
       "      <th>Sway area</th>\n",
       "      <th>Mean frequency</th>\n",
       "      <th>Mean frequency-ML</th>\n",
       "      <th>Mean frequency-AP</th>\n",
       "      <th>Fractal dimension-CC</th>\n",
       "      <th>Fractal dimension-CE</th>\n",
       "    </tr>\n",
       "    <tr>\n",
       "      <th>device</th>\n",
       "      <th>subject</th>\n",
       "      <th>trial</th>\n",
       "      <th>balance board</th>\n",
       "      <th></th>\n",
       "      <th></th>\n",
       "      <th></th>\n",
       "      <th></th>\n",
       "      <th></th>\n",
       "      <th></th>\n",
       "      <th></th>\n",
       "      <th></th>\n",
       "      <th></th>\n",
       "      <th></th>\n",
       "      <th></th>\n",
       "      <th></th>\n",
       "      <th></th>\n",
       "      <th></th>\n",
       "      <th></th>\n",
       "      <th></th>\n",
       "      <th></th>\n",
       "      <th></th>\n",
       "      <th></th>\n",
       "      <th></th>\n",
       "    </tr>\n",
       "  </thead>\n",
       "  <tbody>\n",
       "    <tr>\n",
       "      <th>BB</th>\n",
       "      <th>4</th>\n",
       "      <th>1</th>\n",
       "      <th>2</th>\n",
       "      <td>2.401951</td>\n",
       "      <td>1.698436</td>\n",
       "      <td>2.866229</td>\n",
       "      <td>3.93063</td>\n",
       "      <td>2.779375</td>\n",
       "      <td>4.545531</td>\n",
       "      <td>14.122858</td>\n",
       "      <td>15.90891</td>\n",
       "      <td>28.718541</td>\n",
       "      <td>8.342566</td>\n",
       "      <td>3.123372</td>\n",
       "      <td>7.019799</td>\n",
       "      <td>177.663903</td>\n",
       "      <td>345.627143</td>\n",
       "      <td>19.60306</td>\n",
       "      <td>0.552784</td>\n",
       "      <td>0.325087</td>\n",
       "      <td>0.432951</td>\n",
       "      <td>1.463252</td>\n",
       "      <td>1.375166</td>\n",
       "    </tr>\n",
       "  </tbody>\n",
       "</table>\n",
       "</div>"
      ],
      "text/plain": [
       "                                    Mean distance  Mean distance-ML  \\\n",
       "device subject trial balance board                                    \n",
       "BB     4       1     2                   2.401951          1.698436   \n",
       "\n",
       "                                    Mean distance-AP  Rms distance  \\\n",
       "device subject trial balance board                                   \n",
       "BB     4       1     2                      2.866229       3.93063   \n",
       "\n",
       "                                    Rms distance-ML  Rms distance-AP  \\\n",
       "device subject trial balance board                                     \n",
       "BB     4       1     2                     2.779375         4.545531   \n",
       "\n",
       "                                        Range  Range-ML   Range-AP  \\\n",
       "device subject trial balance board                                   \n",
       "BB     4       1     2              14.122858  15.90891  28.718541   \n",
       "\n",
       "                                    Mean velocity  Mean velocity-ML  \\\n",
       "device subject trial balance board                                    \n",
       "BB     4       1     2                   8.342566          3.123372   \n",
       "\n",
       "                                    Mean velocity-AP  \\\n",
       "device subject trial balance board                     \n",
       "BB     4       1     2                      7.019799   \n",
       "\n",
       "                                    95% confidence circle area  \\\n",
       "device subject trial balance board                               \n",
       "BB     4       1     2                              177.663903   \n",
       "\n",
       "                                    95% confidence elipse area  Sway area  \\\n",
       "device subject trial balance board                                          \n",
       "BB     4       1     2                              345.627143   19.60306   \n",
       "\n",
       "                                    Mean frequency  Mean frequency-ML  \\\n",
       "device subject trial balance board                                      \n",
       "BB     4       1     2                    0.552784           0.325087   \n",
       "\n",
       "                                    Mean frequency-AP  Fractal dimension-CC  \\\n",
       "device subject trial balance board                                            \n",
       "BB     4       1     2                       0.432951              1.463252   \n",
       "\n",
       "                                    Fractal dimension-CE  \n",
       "device subject trial balance board                        \n",
       "BB     4       1     2                          1.375166  "
      ]
     },
     "execution_count": 21,
     "metadata": {},
     "output_type": "execute_result"
    }
   ],
   "source": [
    "wbb_outlier_values = wbb_time[wbb_time[\"Mean distance\"]==wbb_time[\"Mean distance\"].max()]\n",
    "wbb_outlier_values"
   ]
  },
  {
   "cell_type": "code",
   "execution_count": 39,
   "metadata": {
    "ExecuteTime": {
     "end_time": "2019-02-27T23:07:45.994357Z",
     "start_time": "2019-02-27T23:07:45.988573Z"
    }
   },
   "outputs": [
    {
     "data": {
      "text/plain": [
       "[('BB', '4', '1', '2')]"
      ]
     },
     "execution_count": 39,
     "metadata": {},
     "output_type": "execute_result"
    }
   ],
   "source": [
    "wbb_outlier_index = wbb_outlier_values.index.tolist()\n",
    "wbb_outlier_index"
   ]
  },
  {
   "cell_type": "code",
   "execution_count": 23,
   "metadata": {
    "ExecuteTime": {
     "end_time": "2019-02-27T23:05:40.361257Z",
     "start_time": "2019-02-27T23:05:40.322727Z"
    }
   },
   "outputs": [
    {
     "data": {
      "text/html": [
       "<div>\n",
       "<style scoped>\n",
       "    .dataframe tbody tr th:only-of-type {\n",
       "        vertical-align: middle;\n",
       "    }\n",
       "\n",
       "    .dataframe tbody tr th {\n",
       "        vertical-align: top;\n",
       "    }\n",
       "\n",
       "    .dataframe thead th {\n",
       "        text-align: right;\n",
       "    }\n",
       "</style>\n",
       "<table border=\"1\" class=\"dataframe\">\n",
       "  <thead>\n",
       "    <tr style=\"text-align: right;\">\n",
       "      <th></th>\n",
       "      <th></th>\n",
       "      <th></th>\n",
       "      <th></th>\n",
       "      <th>Mean distance</th>\n",
       "      <th>Mean distance-ML</th>\n",
       "      <th>Mean distance-AP</th>\n",
       "      <th>Rms distance</th>\n",
       "      <th>Rms distance-ML</th>\n",
       "      <th>Rms distance-AP</th>\n",
       "      <th>Range</th>\n",
       "      <th>Range-ML</th>\n",
       "      <th>Range-AP</th>\n",
       "      <th>Mean velocity</th>\n",
       "      <th>Mean velocity-ML</th>\n",
       "      <th>Mean velocity-AP</th>\n",
       "      <th>95% confidence circle area</th>\n",
       "      <th>95% confidence elipse area</th>\n",
       "      <th>Sway area</th>\n",
       "      <th>Mean frequency</th>\n",
       "      <th>Mean frequency-ML</th>\n",
       "      <th>Mean frequency-AP</th>\n",
       "      <th>Fractal dimension-CC</th>\n",
       "      <th>Fractal dimension-CE</th>\n",
       "    </tr>\n",
       "    <tr>\n",
       "      <th>device</th>\n",
       "      <th>subject</th>\n",
       "      <th>trial</th>\n",
       "      <th>balance board</th>\n",
       "      <th></th>\n",
       "      <th></th>\n",
       "      <th></th>\n",
       "      <th></th>\n",
       "      <th></th>\n",
       "      <th></th>\n",
       "      <th></th>\n",
       "      <th></th>\n",
       "      <th></th>\n",
       "      <th></th>\n",
       "      <th></th>\n",
       "      <th></th>\n",
       "      <th></th>\n",
       "      <th></th>\n",
       "      <th></th>\n",
       "      <th></th>\n",
       "      <th></th>\n",
       "      <th></th>\n",
       "      <th></th>\n",
       "      <th></th>\n",
       "    </tr>\n",
       "  </thead>\n",
       "  <tbody>\n",
       "    <tr>\n",
       "      <th>FP</th>\n",
       "      <th>4</th>\n",
       "      <th>1</th>\n",
       "      <th>2</th>\n",
       "      <td>4.478796</td>\n",
       "      <td>3.166987</td>\n",
       "      <td>5.832138</td>\n",
       "      <td>7.519592</td>\n",
       "      <td>5.317155</td>\n",
       "      <td>10.803902</td>\n",
       "      <td>32.322842</td>\n",
       "      <td>40.361057</td>\n",
       "      <td>103.846677</td>\n",
       "      <td>34.769164</td>\n",
       "      <td>12.198498</td>\n",
       "      <td>30.050229</td>\n",
       "      <td>652.799577</td>\n",
       "      <td>1729.954436</td>\n",
       "      <td>129.847547</td>\n",
       "      <td>1.235529</td>\n",
       "      <td>0.680903</td>\n",
       "      <td>0.910846</td>\n",
       "      <td>1.720496</td>\n",
       "      <td>1.549577</td>\n",
       "    </tr>\n",
       "  </tbody>\n",
       "</table>\n",
       "</div>"
      ],
      "text/plain": [
       "                                    Mean distance  Mean distance-ML  \\\n",
       "device subject trial balance board                                    \n",
       "FP     4       1     2                   4.478796          3.166987   \n",
       "\n",
       "                                    Mean distance-AP  Rms distance  \\\n",
       "device subject trial balance board                                   \n",
       "FP     4       1     2                      5.832138      7.519592   \n",
       "\n",
       "                                    Rms distance-ML  Rms distance-AP  \\\n",
       "device subject trial balance board                                     \n",
       "FP     4       1     2                     5.317155        10.803902   \n",
       "\n",
       "                                        Range   Range-ML    Range-AP  \\\n",
       "device subject trial balance board                                     \n",
       "FP     4       1     2              32.322842  40.361057  103.846677   \n",
       "\n",
       "                                    Mean velocity  Mean velocity-ML  \\\n",
       "device subject trial balance board                                    \n",
       "FP     4       1     2                  34.769164         12.198498   \n",
       "\n",
       "                                    Mean velocity-AP  \\\n",
       "device subject trial balance board                     \n",
       "FP     4       1     2                     30.050229   \n",
       "\n",
       "                                    95% confidence circle area  \\\n",
       "device subject trial balance board                               \n",
       "FP     4       1     2                              652.799577   \n",
       "\n",
       "                                    95% confidence elipse area   Sway area  \\\n",
       "device subject trial balance board                                           \n",
       "FP     4       1     2                             1729.954436  129.847547   \n",
       "\n",
       "                                    Mean frequency  Mean frequency-ML  \\\n",
       "device subject trial balance board                                      \n",
       "FP     4       1     2                    1.235529           0.680903   \n",
       "\n",
       "                                    Mean frequency-AP  Fractal dimension-CC  \\\n",
       "device subject trial balance board                                            \n",
       "FP     4       1     2                       0.910846              1.720496   \n",
       "\n",
       "                                    Fractal dimension-CE  \n",
       "device subject trial balance board                        \n",
       "FP     4       1     2                          1.549577  "
      ]
     },
     "execution_count": 23,
     "metadata": {},
     "output_type": "execute_result"
    }
   ],
   "source": [
    "fp_outlier_values = fp_time.loc[(fp_time.index.get_level_values('subject') == outlier_index[0][1])\n",
    "                                           & (fp_time.index.get_level_values('trial') == outlier_index[0][2]) \n",
    "                                           & (fp_time.index.get_level_values('balance board') == outlier_index[0][3])\n",
    "                                          ]\n",
    "\n",
    "fp_outlier_values"
   ]
  },
  {
   "cell_type": "markdown",
   "metadata": {},
   "source": [
    "## Statistical analysis"
   ]
  },
  {
   "cell_type": "markdown",
   "metadata": {},
   "source": [
    "### General descriptive statistics HTML reports "
   ]
  },
  {
   "cell_type": "code",
   "execution_count": 24,
   "metadata": {
    "ExecuteTime": {
     "end_time": "2019-02-27T23:06:07.242222Z",
     "start_time": "2019-02-27T23:06:07.237285Z"
    }
   },
   "outputs": [],
   "source": [
    "wbb_time.head()\n",
    "wbb_time.index.get_level_values(3)\n",
    "wbb_time_1 = wbb_time.loc[(wbb_time.index.get_level_values(3)==\"1\")]"
   ]
  },
  {
   "cell_type": "code",
   "execution_count": 25,
   "metadata": {
    "ExecuteTime": {
     "end_time": "2019-02-27T23:06:12.546382Z",
     "start_time": "2019-02-27T23:06:08.705091Z"
    }
   },
   "outputs": [],
   "source": [
    "outputfile = \"/Users/Antonin/Documents/VUB/semester 4/thesis/validation study/notebooks/results/wbb_data_1_time_domain_report.html\"\n",
    "df_profile = pandas_profiling.ProfileReport(wbb_time_1, bins=50)\n",
    "df_profile.to_file(outputfile=outputfile)"
   ]
  },
  {
   "cell_type": "markdown",
   "metadata": {},
   "source": [
    "### Features mean value and standard deviation "
   ]
  },
  {
   "cell_type": "code",
   "execution_count": 26,
   "metadata": {
    "ExecuteTime": {
     "end_time": "2019-02-27T23:06:14.285826Z",
     "start_time": "2019-02-27T23:06:14.269896Z"
    }
   },
   "outputs": [],
   "source": [
    "def compute_mean_and_stds(df1, df2):\n",
    "    \"\"\"Compute the mean and standard deviation values for each feature and each balance board.\"\"\"\n",
    "\n",
    "    wbb_and_fp_results = pd.concat([df1, df2], axis=0) \n",
    "    feature_mean_results= wbb_and_fp_results.groupby([wbb_and_fp_results.index.get_level_values(0),wbb_and_fp_results.index.get_level_values(3)]).mean().transpose().stack(0).unstack()\n",
    "    feature_std_results= wbb_and_fp_results.groupby([wbb_and_fp_results.index.get_level_values(0),wbb_and_fp_results.index.get_level_values(3)]).std().transpose().stack(0).unstack()\n",
    "    aggregated_results = (feature_mean_results, feature_std_results)\n",
    "    \n",
    "    return aggregated_results"
   ]
  },
  {
   "cell_type": "code",
   "execution_count": 27,
   "metadata": {
    "ExecuteTime": {
     "end_time": "2019-02-27T23:06:16.639961Z",
     "start_time": "2019-02-27T23:06:16.593142Z"
    }
   },
   "outputs": [],
   "source": [
    "time_mean_results, time_std_results = compute_mean_and_stds(wbb_time, fp_time)"
   ]
  },
  {
   "cell_type": "code",
   "execution_count": 28,
   "metadata": {
    "ExecuteTime": {
     "end_time": "2019-02-27T23:06:18.280266Z",
     "start_time": "2019-02-27T23:06:18.258699Z"
    }
   },
   "outputs": [
    {
     "data": {
      "text/html": [
       "<div>\n",
       "<style scoped>\n",
       "    .dataframe tbody tr th:only-of-type {\n",
       "        vertical-align: middle;\n",
       "    }\n",
       "\n",
       "    .dataframe tbody tr th {\n",
       "        vertical-align: top;\n",
       "    }\n",
       "\n",
       "    .dataframe thead tr th {\n",
       "        text-align: left;\n",
       "    }\n",
       "</style>\n",
       "<table border=\"1\" class=\"dataframe\">\n",
       "  <thead>\n",
       "    <tr>\n",
       "      <th>balance board</th>\n",
       "      <th colspan=\"2\" halign=\"left\">1</th>\n",
       "      <th colspan=\"2\" halign=\"left\">2</th>\n",
       "      <th colspan=\"2\" halign=\"left\">3</th>\n",
       "      <th colspan=\"2\" halign=\"left\">4</th>\n",
       "    </tr>\n",
       "    <tr>\n",
       "      <th>device</th>\n",
       "      <th>BB</th>\n",
       "      <th>FP</th>\n",
       "      <th>BB</th>\n",
       "      <th>FP</th>\n",
       "      <th>BB</th>\n",
       "      <th>FP</th>\n",
       "      <th>BB</th>\n",
       "      <th>FP</th>\n",
       "    </tr>\n",
       "  </thead>\n",
       "  <tbody>\n",
       "    <tr>\n",
       "      <th>Mean distance</th>\n",
       "      <td>0.990660</td>\n",
       "      <td>1.908536</td>\n",
       "      <td>1.205425</td>\n",
       "      <td>2.314882</td>\n",
       "      <td>1.079846</td>\n",
       "      <td>1.917090</td>\n",
       "      <td>1.089579</td>\n",
       "      <td>1.926069</td>\n",
       "    </tr>\n",
       "    <tr>\n",
       "      <th>Mean distance-ML</th>\n",
       "      <td>0.700502</td>\n",
       "      <td>1.349539</td>\n",
       "      <td>0.852364</td>\n",
       "      <td>1.636869</td>\n",
       "      <td>0.763566</td>\n",
       "      <td>1.355588</td>\n",
       "      <td>0.770449</td>\n",
       "      <td>1.361936</td>\n",
       "    </tr>\n",
       "    <tr>\n",
       "      <th>Mean distance-AP</th>\n",
       "      <td>2.264986</td>\n",
       "      <td>3.565677</td>\n",
       "      <td>2.286028</td>\n",
       "      <td>3.806461</td>\n",
       "      <td>1.988223</td>\n",
       "      <td>3.088378</td>\n",
       "      <td>2.178060</td>\n",
       "      <td>3.398706</td>\n",
       "    </tr>\n",
       "    <tr>\n",
       "      <th>Rms distance</th>\n",
       "      <td>1.292347</td>\n",
       "      <td>2.739657</td>\n",
       "      <td>1.605369</td>\n",
       "      <td>3.169951</td>\n",
       "      <td>1.345578</td>\n",
       "      <td>2.471987</td>\n",
       "      <td>1.325507</td>\n",
       "      <td>2.432015</td>\n",
       "    </tr>\n",
       "    <tr>\n",
       "      <th>Rms distance-ML</th>\n",
       "      <td>0.913827</td>\n",
       "      <td>1.937230</td>\n",
       "      <td>1.135168</td>\n",
       "      <td>2.241494</td>\n",
       "      <td>0.951467</td>\n",
       "      <td>1.747959</td>\n",
       "      <td>0.937275</td>\n",
       "      <td>1.719694</td>\n",
       "    </tr>\n",
       "  </tbody>\n",
       "</table>\n",
       "</div>"
      ],
      "text/plain": [
       "balance board            1                   2                   3            \\\n",
       "device                  BB        FP        BB        FP        BB        FP   \n",
       "Mean distance     0.990660  1.908536  1.205425  2.314882  1.079846  1.917090   \n",
       "Mean distance-ML  0.700502  1.349539  0.852364  1.636869  0.763566  1.355588   \n",
       "Mean distance-AP  2.264986  3.565677  2.286028  3.806461  1.988223  3.088378   \n",
       "Rms distance      1.292347  2.739657  1.605369  3.169951  1.345578  2.471987   \n",
       "Rms distance-ML   0.913827  1.937230  1.135168  2.241494  0.951467  1.747959   \n",
       "\n",
       "balance board            4            \n",
       "device                  BB        FP  \n",
       "Mean distance     1.089579  1.926069  \n",
       "Mean distance-ML  0.770449  1.361936  \n",
       "Mean distance-AP  2.178060  3.398706  \n",
       "Rms distance      1.325507  2.432015  \n",
       "Rms distance-ML   0.937275  1.719694  "
      ]
     },
     "execution_count": 28,
     "metadata": {},
     "output_type": "execute_result"
    }
   ],
   "source": [
    "time_mean_results.head()"
   ]
  },
  {
   "cell_type": "markdown",
   "metadata": {},
   "source": [
    "### Spearman correlation"
   ]
  },
  {
   "cell_type": "code",
   "execution_count": 29,
   "metadata": {
    "ExecuteTime": {
     "end_time": "2019-02-27T23:06:19.647670Z",
     "start_time": "2019-02-27T23:06:19.636768Z"
    }
   },
   "outputs": [],
   "source": [
    "def compute_spearman_correlation(df1, df2):\n",
    "    \n",
    "    wbb_numbers = [\"1\", \"2\", \"3\", \"4\"]\n",
    "    dfs_1 = [df1.loc[(df1.index.get_level_values(3) == number)] for number in wbb_numbers]\n",
    "    dfs_2 = [df2.loc[(df2.index.get_level_values(3) == number)] for number in wbb_numbers]\n",
    "    \n",
    "    result_dict = {key:{} for key in df1.columns}\n",
    "    \n",
    "    for (df1, df2, number) in zip(dfs_1, dfs_2, wbb_numbers):\n",
    "        # Loop over each feature\n",
    "        for column in df1.columns:\n",
    "            x = df1[column]\n",
    "            y = df2[column]\n",
    "\n",
    "            # Compute the spearman coefficient(rho) and the corresponding p-value\n",
    "            rho, p_value = stats.spearmanr(x, y, nan_policy=\"propagate\")\n",
    "\n",
    "            # Store the results\n",
    "            result_dict[column][number] = {}\n",
    "            result_dict[column][number][\"p-value\"] = p_value\n",
    "            result_dict[column][number][\"rho\"] = rho\n",
    "            \n",
    "    result_dict_collapsed = {(outer_k, inner_k): inner_v for outer_k in result_dict\n",
    "               for inner_k, inner_v in result_dict[outer_k].items()}\n",
    "\n",
    "    aggregated_results = pd.DataFrame.from_dict(result_dict_collapsed).transpose()\n",
    "    aggregated_results = aggregated_results.unstack().stack(0).unstack()\n",
    "\n",
    "    return aggregated_results"
   ]
  },
  {
   "cell_type": "code",
   "execution_count": 30,
   "metadata": {
    "ExecuteTime": {
     "end_time": "2019-02-27T23:06:21.068926Z",
     "start_time": "2019-02-27T23:06:20.981182Z"
    }
   },
   "outputs": [],
   "source": [
    "time_spearman_results = compute_spearman_correlation(wbb_time, fp_time)"
   ]
  },
  {
   "cell_type": "code",
   "execution_count": 31,
   "metadata": {
    "ExecuteTime": {
     "end_time": "2019-02-27T23:06:22.514022Z",
     "start_time": "2019-02-27T23:06:22.492842Z"
    }
   },
   "outputs": [
    {
     "data": {
      "text/html": [
       "<div>\n",
       "<style scoped>\n",
       "    .dataframe tbody tr th:only-of-type {\n",
       "        vertical-align: middle;\n",
       "    }\n",
       "\n",
       "    .dataframe tbody tr th {\n",
       "        vertical-align: top;\n",
       "    }\n",
       "\n",
       "    .dataframe thead tr th {\n",
       "        text-align: left;\n",
       "    }\n",
       "</style>\n",
       "<table border=\"1\" class=\"dataframe\">\n",
       "  <thead>\n",
       "    <tr>\n",
       "      <th></th>\n",
       "      <th colspan=\"2\" halign=\"left\">1</th>\n",
       "      <th colspan=\"2\" halign=\"left\">2</th>\n",
       "      <th colspan=\"2\" halign=\"left\">3</th>\n",
       "      <th colspan=\"2\" halign=\"left\">4</th>\n",
       "    </tr>\n",
       "    <tr>\n",
       "      <th></th>\n",
       "      <th>p-value</th>\n",
       "      <th>rho</th>\n",
       "      <th>p-value</th>\n",
       "      <th>rho</th>\n",
       "      <th>p-value</th>\n",
       "      <th>rho</th>\n",
       "      <th>p-value</th>\n",
       "      <th>rho</th>\n",
       "    </tr>\n",
       "  </thead>\n",
       "  <tbody>\n",
       "    <tr>\n",
       "      <th>95% confidence circle area</th>\n",
       "      <td>4.239284e-05</td>\n",
       "      <td>0.812178</td>\n",
       "      <td>6.924386e-08</td>\n",
       "      <td>0.919421</td>\n",
       "      <td>1.227968e-07</td>\n",
       "      <td>0.913223</td>\n",
       "      <td>7.878415e-10</td>\n",
       "      <td>0.954592</td>\n",
       "    </tr>\n",
       "    <tr>\n",
       "      <th>95% confidence elipse area</th>\n",
       "      <td>3.851406e-11</td>\n",
       "      <td>0.969040</td>\n",
       "      <td>3.723348e-08</td>\n",
       "      <td>0.925620</td>\n",
       "      <td>2.250523e-11</td>\n",
       "      <td>0.971074</td>\n",
       "      <td>6.262894e-15</td>\n",
       "      <td>0.989680</td>\n",
       "    </tr>\n",
       "    <tr>\n",
       "      <th>Fractal dimension-CC</th>\n",
       "      <td>4.841232e-03</td>\n",
       "      <td>0.632611</td>\n",
       "      <td>5.858427e-03</td>\n",
       "      <td>0.621901</td>\n",
       "      <td>1.704051e-04</td>\n",
       "      <td>0.772727</td>\n",
       "      <td>1.481255e-04</td>\n",
       "      <td>0.777090</td>\n",
       "    </tr>\n",
       "    <tr>\n",
       "      <th>Fractal dimension-CE</th>\n",
       "      <td>2.636461e-04</td>\n",
       "      <td>0.758514</td>\n",
       "      <td>5.649779e-03</td>\n",
       "      <td>0.623967</td>\n",
       "      <td>2.347007e-04</td>\n",
       "      <td>0.762397</td>\n",
       "      <td>5.025142e-03</td>\n",
       "      <td>0.630547</td>\n",
       "    </tr>\n",
       "    <tr>\n",
       "      <th>Mean distance</th>\n",
       "      <td>9.781073e-05</td>\n",
       "      <td>0.789474</td>\n",
       "      <td>2.920600e-07</td>\n",
       "      <td>0.902893</td>\n",
       "      <td>1.361720e-05</td>\n",
       "      <td>0.838843</td>\n",
       "      <td>1.460784e-07</td>\n",
       "      <td>0.911249</td>\n",
       "    </tr>\n",
       "  </tbody>\n",
       "</table>\n",
       "</div>"
      ],
      "text/plain": [
       "                                       1                       2            \\\n",
       "                                 p-value       rho       p-value       rho   \n",
       "95% confidence circle area  4.239284e-05  0.812178  6.924386e-08  0.919421   \n",
       "95% confidence elipse area  3.851406e-11  0.969040  3.723348e-08  0.925620   \n",
       "Fractal dimension-CC        4.841232e-03  0.632611  5.858427e-03  0.621901   \n",
       "Fractal dimension-CE        2.636461e-04  0.758514  5.649779e-03  0.623967   \n",
       "Mean distance               9.781073e-05  0.789474  2.920600e-07  0.902893   \n",
       "\n",
       "                                       3                       4            \n",
       "                                 p-value       rho       p-value       rho  \n",
       "95% confidence circle area  1.227968e-07  0.913223  7.878415e-10  0.954592  \n",
       "95% confidence elipse area  2.250523e-11  0.971074  6.262894e-15  0.989680  \n",
       "Fractal dimension-CC        1.704051e-04  0.772727  1.481255e-04  0.777090  \n",
       "Fractal dimension-CE        2.347007e-04  0.762397  5.025142e-03  0.630547  \n",
       "Mean distance               1.361720e-05  0.838843  1.460784e-07  0.911249  "
      ]
     },
     "execution_count": 31,
     "metadata": {},
     "output_type": "execute_result"
    }
   ],
   "source": [
    "time_spearman_results.head()"
   ]
  },
  {
   "cell_type": "code",
   "execution_count": 32,
   "metadata": {
    "ExecuteTime": {
     "end_time": "2019-02-27T23:06:24.052842Z",
     "start_time": "2019-02-27T23:06:24.042310Z"
    }
   },
   "outputs": [
    {
     "data": {
      "text/plain": [
       "Index(['Mean distance', 'Mean distance-ML', 'Mean distance-AP', 'Rms distance',\n",
       "       'Rms distance-ML', 'Rms distance-AP', 'Range', 'Range-ML', 'Range-AP',\n",
       "       'Mean velocity', 'Mean velocity-ML', 'Mean velocity-AP',\n",
       "       '95% confidence circle area', '95% confidence elipse area', 'Sway area',\n",
       "       'Mean frequency', 'Mean frequency-ML', 'Mean frequency-AP',\n",
       "       'Fractal dimension-CC', 'Fractal dimension-CE'],\n",
       "      dtype='object')"
      ]
     },
     "execution_count": 32,
     "metadata": {},
     "output_type": "execute_result"
    }
   ],
   "source": [
    "wbb_time.columns"
   ]
  },
  {
   "cell_type": "markdown",
   "metadata": {},
   "source": [
    "### Pearson's correlation coefficient and regression lines equations \n"
   ]
  },
  {
   "cell_type": "code",
   "execution_count": 33,
   "metadata": {
    "ExecuteTime": {
     "end_time": "2019-02-27T23:06:25.529705Z",
     "start_time": "2019-02-27T23:06:25.525645Z"
    }
   },
   "outputs": [],
   "source": [
    "fp_time_cut = fp_time[:wbb_time.shape[0]]"
   ]
  },
  {
   "cell_type": "code",
   "execution_count": 34,
   "metadata": {
    "ExecuteTime": {
     "end_time": "2019-02-27T23:06:27.255529Z",
     "start_time": "2019-02-27T23:06:27.246015Z"
    }
   },
   "outputs": [],
   "source": [
    "def plot_correlation(df1,df2,name=\"time_domain\"):\n",
    "    columns = df1.columns\n",
    "    fig, axs = plt.subplots(8,3,figsize=(15,25),facecolor='w', edgecolor='k')\n",
    "    fig.subplots_adjust(hspace = .5)\n",
    "    #axs[-1, -1].axis('off')\n",
    "    for ax, column in zip(axs.ravel(), columns):\n",
    "        x = df1[column]\n",
    "        y = df2[column]\n",
    "        slope, intercept, r_value, p_value, std_err = stats.linregress(x, y)\n",
    "        ax.plot(x, y, '.', label='original data')\n",
    "        ax.plot(x, intercept + slope*x, 'black', label='fitted line', linewidth=0.3)\n",
    "        ax.set_xlabel('Balance Board')\n",
    "        ax.set_ylabel('Force plate')\n",
    "        ax.set_title(column, weight = 600)\n",
    "        r_squared = round(r_value**2,4)\n",
    "        ax.text(0.8, 0.4, \"p-value = {}\".format(round(p_value,4)), fontsize=9, horizontalalignment='center',\n",
    "                verticalalignment='center', transform=ax.transAxes)\n",
    "        ax.text(0.8, 0.3, \"R\\u00b2={}\".format(r_squared), fontsize=9, horizontalalignment='center',\n",
    "                verticalalignment='center', transform=ax.transAxes)\n",
    "        ax.text(0.8, 0.2, \"Slope = {}\".format(round(slope,4)), fontsize=9, horizontalalignment='center',\n",
    "                verticalalignment='center', transform=ax.transAxes)\n",
    "        ax.text(0.8, 0.1, \"Intercept = {}\".format(round(intercept,4)), fontsize=9, horizontalalignment='center',\n",
    "                verticalalignment='center', transform=ax.transAxes)\n",
    "        #ax.legend()\n",
    "    plt.savefig(\"results/{}_correlation_plots.png\".format(name), bbox_inches='tight')\n"
   ]
  },
  {
   "cell_type": "code",
   "execution_count": 35,
   "metadata": {
    "ExecuteTime": {
     "end_time": "2019-02-27T23:06:36.798050Z",
     "start_time": "2019-02-27T23:06:28.938258Z"
    }
   },
   "outputs": [
    {
     "data": {
      "image/png": "[encoded data removed]",
      "text/plain": [
       "<matplotlib.figure.Figure at 0x111eac5c0>"
      ]
     },
     "metadata": {},
     "output_type": "display_data"
    }
   ],
   "source": [
    "plot_correlation(wbb_time, fp_time_cut)"
   ]
  },
  {
   "cell_type": "code",
   "execution_count": 36,
   "metadata": {
    "ExecuteTime": {
     "end_time": "2019-02-27T23:06:38.655070Z",
     "start_time": "2019-02-27T23:06:38.647349Z"
    }
   },
   "outputs": [],
   "source": [
    "def plot_correlation_2(df1,df2):\n",
    "    columns = df1.columns\n",
    "    fig, axs = plt.subplots(6,3,figsize=(20,30),facecolor='w', edgecolor='k')\n",
    "    fig.subplots_adjust(hspace = .5)\n",
    "    axs[-1, -1].axis('off')\n",
    "    for ax, column in zip(axs.ravel(), columns):\n",
    "        x = df1[column]\n",
    "        y = df2[column]\n",
    "        regression = ols(\"data ~ x\", data=dict(data=y, x=x)).fit(covtype=\"scale\")\n",
    "        \n",
    "        # Find outliers #\n",
    "        test = regression.outlier_test()\n",
    "        outliers = ((x[i],y[i]) for i,t in enumerate(test[\"unadj_p\"]) if t < 0.5)\n",
    "        #print ('Outliers: ', list(outliers))\n",
    "        \n",
    "        smgraphics.regressionplots.plot_fit(regression, 1, ax=ax)\n",
    "        # Add line\n",
    "        smgraphics.regressionplots.abline_plot(model_results=regression, ax=ax)\n",
    "        \n",
    "        #ax.plot(x, y, '.', label='original data')\n",
    "        ax.set_xlabel('Balance Board')\n",
    "        ax.set_ylabel('Force plate')\n",
    "        ax.set_title(column, weight = 600)\n",
    "\n",
    "        #ax.legend()\n",
    "    #plt.savefig(\"results/{}_correlation_plots.png\".format(name), bbox_inches='tight')\n",
    "\n"
   ]
  },
  {
   "cell_type": "code",
   "execution_count": null,
   "metadata": {
    "ExecuteTime": {
     "end_time": "2019-02-27T22:23:24.982774Z",
     "start_time": "2019-02-27T22:23:24.974968Z"
    }
   },
   "outputs": [],
   "source": [
    "#plot_correlation_2(wbb_time, fp_time_cut)"
   ]
  },
  {
   "cell_type": "markdown",
   "metadata": {},
   "source": [
    "### Bland and Altman plots + LOA (limit of agreement)"
   ]
  },
  {
   "cell_type": "code",
   "execution_count": null,
   "metadata": {
    "ExecuteTime": {
     "end_time": "2019-02-27T22:25:41.428850Z",
     "start_time": "2019-02-27T22:25:41.415256Z"
    }
   },
   "outputs": [],
   "source": [
    "def bland_altman_plot(df1, df2, name=\"time_domain\"):\n",
    "    columns = df1.columns\n",
    "    fig, axs = plt.subplots(8,3,figsize=(20,30),facecolor='w', edgecolor='k')\n",
    "    fig.subplots_adjust(hspace = .5)\n",
    "    df1= df1.reorder_levels(['balance board','device','subject','trial']).sort_index()\n",
    "    df2= df2.reorder_levels(['balance board','device','subject','trial']).sort_index()\n",
    "\n",
    "    for ax, column in zip(axs.ravel(), columns):\n",
    "        x = df1[column].values\n",
    "        y = df2[column].values\n",
    "        data1 = np.asarray(x)\n",
    "        data2 = np.asarray(y)\n",
    "        #mean = np.mean([x, y], axis=0)\n",
    "        trials = [trial for trial in range(len(data1))]\n",
    "        diff = x - y \n",
    "        md = np.mean(diff)               \n",
    "        sd = np.std(diff, axis=0)\n",
    "\n",
    "        ax.scatter(trials, diff, marker='.',s=60, color = \"gray\",  )\n",
    "        trials_limits = [x * 18 + 0.5 for x in range(1, 4)]\n",
    "        for limit in trials_limits:\n",
    "            ax.axvline(limit,color='black', linestyle='--', linewidth=0.5)\n",
    "\n",
    "        ax.axhline(md,color='tomato', linestyle='--')\n",
    "        ax.axhline(md + 2*sd, color='teal', linestyle='--', linewidth=0.5)\n",
    "        ax.axhline(md - 2*sd, color='teal', linestyle='--', linewidth=0.5)\n",
    "        ax.set_xlabel('Trials')\n",
    "        ax.set_ylabel('Difference')\n",
    "        ax.set_title(column, weight = 600)\n",
    "        \n",
    "        #ax.legend()\n",
    "    plt.savefig(\"results/{}_bland_altman_plots.png\".format(name), bbox_inches='tight')"
   ]
  },
  {
   "cell_type": "code",
   "execution_count": null,
   "metadata": {
    "ExecuteTime": {
     "end_time": "2019-02-27T22:25:52.194542Z",
     "start_time": "2019-02-27T22:25:43.331554Z"
    }
   },
   "outputs": [],
   "source": [
    "bland_altman_plot(wbb_time,fp_time)"
   ]
  },
  {
   "cell_type": "markdown",
   "metadata": {},
   "source": [
    "###  Intraclass correlation coefficient (ICC) \n",
    "\n"
   ]
  },
  {
   "cell_type": "code",
   "execution_count": null,
   "metadata": {
    "ExecuteTime": {
     "end_time": "2019-02-27T22:23:33.657087Z",
     "start_time": "2019-02-27T22:23:33.186532Z"
    }
   },
   "outputs": [],
   "source": [
    "from rpy2.robjects import DataFrame, FloatVector, pandas2ri\n",
    "from rpy2.robjects.packages import importr"
   ]
  },
  {
   "cell_type": "code",
   "execution_count": null,
   "metadata": {
    "ExecuteTime": {
     "end_time": "2019-02-27T22:23:33.668009Z",
     "start_time": "2019-02-27T22:23:33.660740Z"
    }
   },
   "outputs": [],
   "source": [
    "rpy2.__version__"
   ]
  },
  {
   "cell_type": "code",
   "execution_count": null,
   "metadata": {
    "ExecuteTime": {
     "end_time": "2019-02-27T22:23:33.686990Z",
     "start_time": "2019-02-27T22:23:33.672441Z"
    }
   },
   "outputs": [],
   "source": [
    "def compute_ICC(df1):\n",
    "    \"\"\"\n",
    "    Compute the two-way mixed ICC.\n",
    "\n",
    "    References\n",
    "    ----------\n",
    "    .. [1] R library used for the ICC implementation: http://www.personality-project.org/r/html/ICC.html\n",
    "\n",
    "    Notes\n",
    "    -----\n",
    "    More info on what is the two-way mixed ICC: https://www.uvm.edu/~dhowell/methods8/Supplements/icc/More%20on%20ICCs.pdf\n",
    "    \"\"\"\n",
    "\n",
    "    psych = importr(\"psych\")\n",
    "    wbb_numbers = [\"1\", \"2\", \"3\", \"4\"]\n",
    "    dfs_1 = [df1.loc[(df1.index.get_level_values(3) == number)] for number in wbb_numbers]\n",
    "    result_dict = {}\n",
    "    # Loop over each feature\n",
    "    for column in df1.columns:\n",
    "        r_df = DataFrame({\"WBB 1 feature\": FloatVector(dfs_1[0][column]),\n",
    "                              \"WBB 2 feature\": FloatVector(dfs_1[1][column]),\n",
    "                              \"WBB 3 feature\": FloatVector(dfs_1[2][column]),\n",
    "                              \"WBB 4 feature\": FloatVector(dfs_1[3][column])})\n",
    "        # Compute the two way mixed ICC\n",
    "        icc_res = psych.ICC(r_df)\n",
    "        iccs_r_df = icc_res[0]\n",
    "\n",
    "        iccs_df = pandas2ri.ri2py(iccs_r_df)\n",
    "\n",
    "        # Select the ICC that corresponds to the 2 way mixed model (see links above)\n",
    "        icc = iccs_df.iloc[4][\"ICC\"]\n",
    "        icc_lower_bound = iccs_df.iloc[5][\"lower bound\"]\n",
    "        icc_upper_bound = iccs_df.iloc[5][\"upper bound\"]\n",
    "        icc_result = \"{}({}, {})\".format(round(icc, 4), round(icc_lower_bound, 4), round(icc_upper_bound, 4))\n",
    "\n",
    "        # Store the results\n",
    "        result_dict[column] = {}\n",
    "        result_dict[column][\"ICC\"] = icc_result\n",
    "\n",
    "    return result_dict"
   ]
  },
  {
   "cell_type": "code",
   "execution_count": null,
   "metadata": {
    "ExecuteTime": {
     "end_time": "2019-02-27T22:23:36.972860Z",
     "start_time": "2019-02-27T22:23:33.690894Z"
    }
   },
   "outputs": [],
   "source": [
    "ICC_results = compute_ICC(wbb_time)"
   ]
  },
  {
   "cell_type": "code",
   "execution_count": null,
   "metadata": {
    "ExecuteTime": {
     "end_time": "2019-02-27T22:23:36.986340Z",
     "start_time": "2019-02-27T22:23:36.975797Z"
    }
   },
   "outputs": [],
   "source": [
    "ICC_results_df = pd.DataFrame.from_dict(ICC_results).transpose()"
   ]
  },
  {
   "cell_type": "code",
   "execution_count": null,
   "metadata": {
    "ExecuteTime": {
     "end_time": "2019-02-27T22:23:37.013100Z",
     "start_time": "2019-02-27T22:23:36.992367Z"
    }
   },
   "outputs": [],
   "source": [
    "ICC_results_df"
   ]
  },
  {
   "cell_type": "code",
   "execution_count": null,
   "metadata": {
    "ExecuteTime": {
     "end_time": "2019-02-27T22:23:37.032433Z",
     "start_time": "2019-02-27T22:23:37.016848Z"
    }
   },
   "outputs": [],
   "source": [
    "def compute_ICC_2(df1):\n",
    "    \"\"\"\n",
    "    Compute the two-way mixed ICC.\n",
    "\n",
    "    References\n",
    "    ----------\n",
    "    .. [1] R library used for the ICC implementation: https://cran.r-project.org/web/packages/irr/irr.pdf\n",
    "\n",
    "    Notes\n",
    "    -----\n",
    "    More info on what is the two-way mixed ICC: https://www.uvm.edu/~dhowell/methods8/Supplements/icc/More%20on%20ICCs.pdf\n",
    "    \"\"\"\n",
    "\n",
    "    irr = importr(\"irr\")\n",
    "\n",
    "    wbb_numbers = [\"1\", \"2\", \"3\", \"4\"]\n",
    "    dfs_1 = [df1.loc[(df1.index.get_level_values(3) == number)] for number in wbb_numbers]\n",
    "    result_dict = {}\n",
    "    # Loop over each feature\n",
    "    for column in df1.columns:\n",
    "        r_df = DataFrame({\"WBB 1 feature\": FloatVector(dfs_1[0][column]),\n",
    "                              \"WBB 2 feature\": FloatVector(dfs_1[1][column]),\n",
    "                              \"WBB 3 feature\": FloatVector(dfs_1[2][column]),\n",
    "                              \"WBB 4 feature\": FloatVector(dfs_1[3][column])})\n",
    "        # Compute the two way mixed ICC\n",
    "        icc_res = irr.icc(r_df,\"twoway\",\"consistency\",\"average\")\n",
    "        \n",
    "        result_dict[column] = dict(zip(icc_res.names, list(icc_res)))\n",
    "        \n",
    "    return result_dict"
   ]
  },
  {
   "cell_type": "code",
   "execution_count": null,
   "metadata": {
    "ExecuteTime": {
     "end_time": "2019-02-27T22:23:37.179282Z",
     "start_time": "2019-02-27T22:23:37.036205Z"
    }
   },
   "outputs": [],
   "source": [
    "ICC_results = compute_ICC_2(wbb_time)"
   ]
  },
  {
   "cell_type": "code",
   "execution_count": null,
   "metadata": {
    "ExecuteTime": {
     "end_time": "2019-02-27T22:23:37.189584Z",
     "start_time": "2019-02-27T22:23:37.182652Z"
    }
   },
   "outputs": [],
   "source": [
    "ICC_results_df = pd.DataFrame.from_dict(ICC_results).transpose()"
   ]
  },
  {
   "cell_type": "code",
   "execution_count": null,
   "metadata": {
    "ExecuteTime": {
     "end_time": "2019-02-27T22:23:37.326710Z",
     "start_time": "2019-02-27T22:23:37.192780Z"
    }
   },
   "outputs": [],
   "source": [
    "ICC_results_df"
   ]
  },
  {
   "cell_type": "code",
   "execution_count": null,
   "metadata": {},
   "outputs": [],
   "source": []
  },
  {
   "cell_type": "code",
   "execution_count": null,
   "metadata": {},
   "outputs": [],
   "source": []
  }
 ],
 "metadata": {
  "kernelspec": {
   "display_name": "Python 3",
   "language": "python",
   "name": "python3"
  },
  "language_info": {
   "codemirror_mode": {
    "name": "ipython",
    "version": 3
   },
   "file_extension": ".py",
   "mimetype": "text/x-python",
   "name": "python",
   "nbconvert_exporter": "python",
   "pygments_lexer": "ipython3",
   "version": "3.6.5"
  },
  "toc": {
   "base_numbering": 1,
   "nav_menu": {
    "height": "400px",
    "width": "512px"
   },
   "number_sections": true,
   "sideBar": true,
   "skip_h1_title": false,
   "title_cell": "Table of Contents",
   "title_sidebar": "Contents",
   "toc_cell": false,
   "toc_position": {
    "height": "calc(100% - 180px)",
    "left": "10px",
    "top": "150px",
    "width": "314px"
   },
   "toc_section_display": true,
   "toc_window_display": true
  },
  "varInspector": {
   "cols": {
    "lenName": 16,
    "lenType": 16,
    "lenVar": 40
   },
   "kernels_config": {
    "python": {
     "delete_cmd_postfix": "",
     "delete_cmd_prefix": "del ",
     "library": "var_list.py",
     "varRefreshCmd": "print(var_dic_list())"
    },
    "r": {
     "delete_cmd_postfix": ") ",
     "delete_cmd_prefix": "rm(",
     "library": "var_list.r",
     "varRefreshCmd": "cat(var_dic_list()) "
    }
   },
   "oldHeight": 845,
   "position": {
    "height": "867px",
    "left": "1561px",
    "right": "12px",
    "top": "112px",
    "width": "347px"
   },
   "types_to_exclude": [
    "module",
    "function",
    "builtin_function_or_method",
    "instance",
    "_Feature"
   ],
   "varInspector_section_display": "block",
   "window_display": false
  },
  "widgets": {
   "application/vnd.jupyter.widget-state+json": {
    "state": {},
    "version_major": 2,
    "version_minor": 0
   }
  }
 },
 "nbformat": 4,
 "nbformat_minor": 2
}
